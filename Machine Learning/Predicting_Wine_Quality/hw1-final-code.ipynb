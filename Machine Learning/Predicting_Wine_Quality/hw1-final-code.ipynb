{
 "cells": [
  {
   "cell_type": "code",
   "execution_count": 76,
   "id": "regular-nowhere",
   "metadata": {},
   "outputs": [],
   "source": [
    "import numpy as np\n",
    "import pandas as pd\n",
    "import matplotlib.pyplot as plt\n",
    "import math"
   ]
  },
  {
   "cell_type": "code",
   "execution_count": 77,
   "id": "casual-symposium",
   "metadata": {},
   "outputs": [
    {
     "data": {
      "text/html": [
       "<div>\n",
       "<style scoped>\n",
       "    .dataframe tbody tr th:only-of-type {\n",
       "        vertical-align: middle;\n",
       "    }\n",
       "\n",
       "    .dataframe tbody tr th {\n",
       "        vertical-align: top;\n",
       "    }\n",
       "\n",
       "    .dataframe thead th {\n",
       "        text-align: right;\n",
       "    }\n",
       "</style>\n",
       "<table border=\"1\" class=\"dataframe\">\n",
       "  <thead>\n",
       "    <tr style=\"text-align: right;\">\n",
       "      <th></th>\n",
       "      <th>fixed acidity</th>\n",
       "      <th>volatile acidity</th>\n",
       "      <th>citric acid</th>\n",
       "      <th>residual sugar</th>\n",
       "      <th>chlorides</th>\n",
       "      <th>free sulfur dioxide</th>\n",
       "      <th>total sulfur dioxide</th>\n",
       "      <th>density</th>\n",
       "      <th>pH</th>\n",
       "      <th>sulphates</th>\n",
       "      <th>alcohol</th>\n",
       "      <th>quality</th>\n",
       "    </tr>\n",
       "  </thead>\n",
       "  <tbody>\n",
       "    <tr>\n",
       "      <th>0</th>\n",
       "      <td>7.4</td>\n",
       "      <td>0.70</td>\n",
       "      <td>0.00</td>\n",
       "      <td>1.9</td>\n",
       "      <td>0.076</td>\n",
       "      <td>11.0</td>\n",
       "      <td>34.0</td>\n",
       "      <td>0.9978</td>\n",
       "      <td>3.51</td>\n",
       "      <td>0.56</td>\n",
       "      <td>9.4</td>\n",
       "      <td>5</td>\n",
       "    </tr>\n",
       "    <tr>\n",
       "      <th>1</th>\n",
       "      <td>7.8</td>\n",
       "      <td>0.88</td>\n",
       "      <td>0.00</td>\n",
       "      <td>2.6</td>\n",
       "      <td>0.098</td>\n",
       "      <td>25.0</td>\n",
       "      <td>67.0</td>\n",
       "      <td>0.9968</td>\n",
       "      <td>3.20</td>\n",
       "      <td>0.68</td>\n",
       "      <td>9.8</td>\n",
       "      <td>5</td>\n",
       "    </tr>\n",
       "    <tr>\n",
       "      <th>2</th>\n",
       "      <td>7.8</td>\n",
       "      <td>0.76</td>\n",
       "      <td>0.04</td>\n",
       "      <td>2.3</td>\n",
       "      <td>0.092</td>\n",
       "      <td>15.0</td>\n",
       "      <td>54.0</td>\n",
       "      <td>0.9970</td>\n",
       "      <td>3.26</td>\n",
       "      <td>0.65</td>\n",
       "      <td>9.8</td>\n",
       "      <td>5</td>\n",
       "    </tr>\n",
       "    <tr>\n",
       "      <th>3</th>\n",
       "      <td>11.2</td>\n",
       "      <td>0.28</td>\n",
       "      <td>0.56</td>\n",
       "      <td>1.9</td>\n",
       "      <td>0.075</td>\n",
       "      <td>17.0</td>\n",
       "      <td>60.0</td>\n",
       "      <td>0.9980</td>\n",
       "      <td>3.16</td>\n",
       "      <td>0.58</td>\n",
       "      <td>9.8</td>\n",
       "      <td>6</td>\n",
       "    </tr>\n",
       "    <tr>\n",
       "      <th>4</th>\n",
       "      <td>7.4</td>\n",
       "      <td>0.70</td>\n",
       "      <td>0.00</td>\n",
       "      <td>1.9</td>\n",
       "      <td>0.076</td>\n",
       "      <td>11.0</td>\n",
       "      <td>34.0</td>\n",
       "      <td>0.9978</td>\n",
       "      <td>3.51</td>\n",
       "      <td>0.56</td>\n",
       "      <td>9.4</td>\n",
       "      <td>5</td>\n",
       "    </tr>\n",
       "  </tbody>\n",
       "</table>\n",
       "</div>"
      ],
      "text/plain": [
       "   fixed acidity  volatile acidity  citric acid  residual sugar  chlorides  \\\n",
       "0            7.4              0.70         0.00             1.9      0.076   \n",
       "1            7.8              0.88         0.00             2.6      0.098   \n",
       "2            7.8              0.76         0.04             2.3      0.092   \n",
       "3           11.2              0.28         0.56             1.9      0.075   \n",
       "4            7.4              0.70         0.00             1.9      0.076   \n",
       "\n",
       "   free sulfur dioxide  total sulfur dioxide  density    pH  sulphates  \\\n",
       "0                 11.0                  34.0   0.9978  3.51       0.56   \n",
       "1                 25.0                  67.0   0.9968  3.20       0.68   \n",
       "2                 15.0                  54.0   0.9970  3.26       0.65   \n",
       "3                 17.0                  60.0   0.9980  3.16       0.58   \n",
       "4                 11.0                  34.0   0.9978  3.51       0.56   \n",
       "\n",
       "   alcohol  quality  \n",
       "0      9.4        5  \n",
       "1      9.8        5  \n",
       "2      9.8        5  \n",
       "3      9.8        6  \n",
       "4      9.4        5  "
      ]
     },
     "execution_count": 77,
     "metadata": {},
     "output_type": "execute_result"
    }
   ],
   "source": [
    "reds = pd.read_csv('winequality-red.csv', delimiter=';')\n",
    "reds.head()"
   ]
  },
  {
   "cell_type": "code",
   "execution_count": 78,
   "id": "elegant-delivery",
   "metadata": {},
   "outputs": [
    {
     "data": {
      "text/html": [
       "<div>\n",
       "<style scoped>\n",
       "    .dataframe tbody tr th:only-of-type {\n",
       "        vertical-align: middle;\n",
       "    }\n",
       "\n",
       "    .dataframe tbody tr th {\n",
       "        vertical-align: top;\n",
       "    }\n",
       "\n",
       "    .dataframe thead th {\n",
       "        text-align: right;\n",
       "    }\n",
       "</style>\n",
       "<table border=\"1\" class=\"dataframe\">\n",
       "  <thead>\n",
       "    <tr style=\"text-align: right;\">\n",
       "      <th></th>\n",
       "      <th>fixed acidity</th>\n",
       "      <th>volatile acidity</th>\n",
       "      <th>citric acid</th>\n",
       "      <th>residual sugar</th>\n",
       "      <th>chlorides</th>\n",
       "      <th>free sulfur dioxide</th>\n",
       "      <th>total sulfur dioxide</th>\n",
       "      <th>density</th>\n",
       "      <th>pH</th>\n",
       "      <th>sulphates</th>\n",
       "      <th>alcohol</th>\n",
       "      <th>quality</th>\n",
       "    </tr>\n",
       "  </thead>\n",
       "  <tbody>\n",
       "    <tr>\n",
       "      <th>0</th>\n",
       "      <td>7.0</td>\n",
       "      <td>0.27</td>\n",
       "      <td>0.36</td>\n",
       "      <td>20.7</td>\n",
       "      <td>0.045</td>\n",
       "      <td>45.0</td>\n",
       "      <td>170.0</td>\n",
       "      <td>1.0010</td>\n",
       "      <td>3.00</td>\n",
       "      <td>0.45</td>\n",
       "      <td>8.8</td>\n",
       "      <td>6</td>\n",
       "    </tr>\n",
       "    <tr>\n",
       "      <th>1</th>\n",
       "      <td>6.3</td>\n",
       "      <td>0.30</td>\n",
       "      <td>0.34</td>\n",
       "      <td>1.6</td>\n",
       "      <td>0.049</td>\n",
       "      <td>14.0</td>\n",
       "      <td>132.0</td>\n",
       "      <td>0.9940</td>\n",
       "      <td>3.30</td>\n",
       "      <td>0.49</td>\n",
       "      <td>9.5</td>\n",
       "      <td>6</td>\n",
       "    </tr>\n",
       "    <tr>\n",
       "      <th>2</th>\n",
       "      <td>8.1</td>\n",
       "      <td>0.28</td>\n",
       "      <td>0.40</td>\n",
       "      <td>6.9</td>\n",
       "      <td>0.050</td>\n",
       "      <td>30.0</td>\n",
       "      <td>97.0</td>\n",
       "      <td>0.9951</td>\n",
       "      <td>3.26</td>\n",
       "      <td>0.44</td>\n",
       "      <td>10.1</td>\n",
       "      <td>6</td>\n",
       "    </tr>\n",
       "    <tr>\n",
       "      <th>3</th>\n",
       "      <td>7.2</td>\n",
       "      <td>0.23</td>\n",
       "      <td>0.32</td>\n",
       "      <td>8.5</td>\n",
       "      <td>0.058</td>\n",
       "      <td>47.0</td>\n",
       "      <td>186.0</td>\n",
       "      <td>0.9956</td>\n",
       "      <td>3.19</td>\n",
       "      <td>0.40</td>\n",
       "      <td>9.9</td>\n",
       "      <td>6</td>\n",
       "    </tr>\n",
       "    <tr>\n",
       "      <th>4</th>\n",
       "      <td>7.2</td>\n",
       "      <td>0.23</td>\n",
       "      <td>0.32</td>\n",
       "      <td>8.5</td>\n",
       "      <td>0.058</td>\n",
       "      <td>47.0</td>\n",
       "      <td>186.0</td>\n",
       "      <td>0.9956</td>\n",
       "      <td>3.19</td>\n",
       "      <td>0.40</td>\n",
       "      <td>9.9</td>\n",
       "      <td>6</td>\n",
       "    </tr>\n",
       "  </tbody>\n",
       "</table>\n",
       "</div>"
      ],
      "text/plain": [
       "   fixed acidity  volatile acidity  citric acid  residual sugar  chlorides  \\\n",
       "0            7.0              0.27         0.36            20.7      0.045   \n",
       "1            6.3              0.30         0.34             1.6      0.049   \n",
       "2            8.1              0.28         0.40             6.9      0.050   \n",
       "3            7.2              0.23         0.32             8.5      0.058   \n",
       "4            7.2              0.23         0.32             8.5      0.058   \n",
       "\n",
       "   free sulfur dioxide  total sulfur dioxide  density    pH  sulphates  \\\n",
       "0                 45.0                 170.0   1.0010  3.00       0.45   \n",
       "1                 14.0                 132.0   0.9940  3.30       0.49   \n",
       "2                 30.0                  97.0   0.9951  3.26       0.44   \n",
       "3                 47.0                 186.0   0.9956  3.19       0.40   \n",
       "4                 47.0                 186.0   0.9956  3.19       0.40   \n",
       "\n",
       "   alcohol  quality  \n",
       "0      8.8        6  \n",
       "1      9.5        6  \n",
       "2     10.1        6  \n",
       "3      9.9        6  \n",
       "4      9.9        6  "
      ]
     },
     "execution_count": 78,
     "metadata": {},
     "output_type": "execute_result"
    }
   ],
   "source": [
    "whites = pd.read_csv('winequality-white.csv', delimiter=';')\n",
    "whites.head()"
   ]
  },
  {
   "cell_type": "code",
   "execution_count": 79,
   "id": "motivated-content",
   "metadata": {},
   "outputs": [
    {
     "data": {
      "image/png": "[encoded data removed]",
      "text/plain": [
       "<Figure size 432x288 with 1 Axes>"
      ]
     },
     "metadata": {
      "needs_background": "light"
     },
     "output_type": "display_data"
    },
    {
     "data": {
      "image/png": "[encoded data removed]",
      "text/plain": [
       "<Figure size 432x288 with 1 Axes>"
      ]
     },
     "metadata": {
      "needs_background": "light"
     },
     "output_type": "display_data"
    },
    {
     "data": {
      "image/png": "[encoded data removed]",
      "text/plain": [
       "<Figure size 432x288 with 1 Axes>"
      ]
     },
     "metadata": {
      "needs_background": "light"
     },
     "output_type": "display_data"
    }
   ],
   "source": [
    "plt.plot(reds[\"alcohol\"], reds[\"quality\"], 'rx')\n",
    "plt.title(\"Alcohol versus Wine Quality\")\n",
    "plt.xlabel(\"Alcohol\")\n",
    "plt.ylabel(\"Quality\")\n",
    "plt.show()\n",
    "\n",
    "plt.plot(reds[\"volatile acidity\"], reds[\"quality\"], 'gx')\n",
    "plt.title(\"Volatile Acidity versus Wine Quality\")\n",
    "plt.xlabel(\"Volatile Alcohol\")\n",
    "plt.ylabel(\"Quality\")\n",
    "plt.show()\n",
    "\n",
    "plt.plot(reds[\"residual sugar\"], reds[\"quality\"], 'bx')\n",
    "plt.title(\"Residual Sugar versus Wine Quality\")\n",
    "plt.xlabel(\"Residual Sugar\")\n",
    "plt.ylabel(\"Quality\")\n",
    "plt.show()"
   ]
  },
  {
   "cell_type": "code",
   "execution_count": 80,
   "id": "micro-shuttle",
   "metadata": {},
   "outputs": [
    {
     "data": {
      "text/html": [
       "<div>\n",
       "<style scoped>\n",
       "    .dataframe tbody tr th:only-of-type {\n",
       "        vertical-align: middle;\n",
       "    }\n",
       "\n",
       "    .dataframe tbody tr th {\n",
       "        vertical-align: top;\n",
       "    }\n",
       "\n",
       "    .dataframe thead th {\n",
       "        text-align: right;\n",
       "    }\n",
       "</style>\n",
       "<table border=\"1\" class=\"dataframe\">\n",
       "  <thead>\n",
       "    <tr style=\"text-align: right;\">\n",
       "      <th></th>\n",
       "      <th>0</th>\n",
       "      <th>1</th>\n",
       "      <th>2</th>\n",
       "      <th>3</th>\n",
       "      <th>4</th>\n",
       "      <th>5</th>\n",
       "      <th>6</th>\n",
       "      <th>7</th>\n",
       "      <th>8</th>\n",
       "      <th>9</th>\n",
       "      <th>10</th>\n",
       "    </tr>\n",
       "  </thead>\n",
       "  <tbody>\n",
       "    <tr>\n",
       "      <th>0</th>\n",
       "      <td>7.0</td>\n",
       "      <td>0.650</td>\n",
       "      <td>0.02</td>\n",
       "      <td>2.1</td>\n",
       "      <td>0.066</td>\n",
       "      <td>8.0</td>\n",
       "      <td>25.0</td>\n",
       "      <td>0.99720</td>\n",
       "      <td>3.47</td>\n",
       "      <td>0.67</td>\n",
       "      <td>9.5</td>\n",
       "    </tr>\n",
       "    <tr>\n",
       "      <th>1</th>\n",
       "      <td>10.2</td>\n",
       "      <td>0.420</td>\n",
       "      <td>0.57</td>\n",
       "      <td>3.4</td>\n",
       "      <td>0.070</td>\n",
       "      <td>4.0</td>\n",
       "      <td>10.0</td>\n",
       "      <td>0.99710</td>\n",
       "      <td>3.04</td>\n",
       "      <td>0.63</td>\n",
       "      <td>9.6</td>\n",
       "    </tr>\n",
       "    <tr>\n",
       "      <th>2</th>\n",
       "      <td>5.2</td>\n",
       "      <td>0.340</td>\n",
       "      <td>0.00</td>\n",
       "      <td>1.8</td>\n",
       "      <td>0.050</td>\n",
       "      <td>27.0</td>\n",
       "      <td>63.0</td>\n",
       "      <td>0.99160</td>\n",
       "      <td>3.68</td>\n",
       "      <td>0.79</td>\n",
       "      <td>14.0</td>\n",
       "    </tr>\n",
       "    <tr>\n",
       "      <th>3</th>\n",
       "      <td>7.2</td>\n",
       "      <td>0.620</td>\n",
       "      <td>0.06</td>\n",
       "      <td>2.5</td>\n",
       "      <td>0.078</td>\n",
       "      <td>17.0</td>\n",
       "      <td>84.0</td>\n",
       "      <td>0.99746</td>\n",
       "      <td>3.51</td>\n",
       "      <td>0.53</td>\n",
       "      <td>9.7</td>\n",
       "    </tr>\n",
       "    <tr>\n",
       "      <th>4</th>\n",
       "      <td>7.4</td>\n",
       "      <td>0.640</td>\n",
       "      <td>0.07</td>\n",
       "      <td>1.8</td>\n",
       "      <td>0.100</td>\n",
       "      <td>8.0</td>\n",
       "      <td>23.0</td>\n",
       "      <td>0.99610</td>\n",
       "      <td>3.30</td>\n",
       "      <td>0.58</td>\n",
       "      <td>9.6</td>\n",
       "    </tr>\n",
       "    <tr>\n",
       "      <th>...</th>\n",
       "      <td>...</td>\n",
       "      <td>...</td>\n",
       "      <td>...</td>\n",
       "      <td>...</td>\n",
       "      <td>...</td>\n",
       "      <td>...</td>\n",
       "      <td>...</td>\n",
       "      <td>...</td>\n",
       "      <td>...</td>\n",
       "      <td>...</td>\n",
       "      <td>...</td>\n",
       "    </tr>\n",
       "    <tr>\n",
       "      <th>1274</th>\n",
       "      <td>7.2</td>\n",
       "      <td>0.490</td>\n",
       "      <td>0.18</td>\n",
       "      <td>2.7</td>\n",
       "      <td>0.069</td>\n",
       "      <td>13.0</td>\n",
       "      <td>34.0</td>\n",
       "      <td>0.99670</td>\n",
       "      <td>3.29</td>\n",
       "      <td>0.48</td>\n",
       "      <td>9.2</td>\n",
       "    </tr>\n",
       "    <tr>\n",
       "      <th>1275</th>\n",
       "      <td>9.2</td>\n",
       "      <td>0.580</td>\n",
       "      <td>0.20</td>\n",
       "      <td>3.0</td>\n",
       "      <td>0.081</td>\n",
       "      <td>15.0</td>\n",
       "      <td>115.0</td>\n",
       "      <td>0.99800</td>\n",
       "      <td>3.23</td>\n",
       "      <td>0.59</td>\n",
       "      <td>9.5</td>\n",
       "    </tr>\n",
       "    <tr>\n",
       "      <th>1276</th>\n",
       "      <td>6.6</td>\n",
       "      <td>0.725</td>\n",
       "      <td>0.09</td>\n",
       "      <td>5.5</td>\n",
       "      <td>0.117</td>\n",
       "      <td>9.0</td>\n",
       "      <td>17.0</td>\n",
       "      <td>0.99655</td>\n",
       "      <td>3.35</td>\n",
       "      <td>0.49</td>\n",
       "      <td>10.8</td>\n",
       "    </tr>\n",
       "    <tr>\n",
       "      <th>1277</th>\n",
       "      <td>7.2</td>\n",
       "      <td>0.630</td>\n",
       "      <td>0.00</td>\n",
       "      <td>1.9</td>\n",
       "      <td>0.097</td>\n",
       "      <td>14.0</td>\n",
       "      <td>38.0</td>\n",
       "      <td>0.99675</td>\n",
       "      <td>3.37</td>\n",
       "      <td>0.58</td>\n",
       "      <td>9.0</td>\n",
       "    </tr>\n",
       "    <tr>\n",
       "      <th>1278</th>\n",
       "      <td>9.1</td>\n",
       "      <td>0.400</td>\n",
       "      <td>0.50</td>\n",
       "      <td>1.8</td>\n",
       "      <td>0.071</td>\n",
       "      <td>7.0</td>\n",
       "      <td>16.0</td>\n",
       "      <td>0.99462</td>\n",
       "      <td>3.21</td>\n",
       "      <td>0.69</td>\n",
       "      <td>12.5</td>\n",
       "    </tr>\n",
       "  </tbody>\n",
       "</table>\n",
       "<p>1279 rows × 11 columns</p>\n",
       "</div>"
      ],
      "text/plain": [
       "        0      1     2    3      4     5      6        7     8     9     10\n",
       "0      7.0  0.650  0.02  2.1  0.066   8.0   25.0  0.99720  3.47  0.67   9.5\n",
       "1     10.2  0.420  0.57  3.4  0.070   4.0   10.0  0.99710  3.04  0.63   9.6\n",
       "2      5.2  0.340  0.00  1.8  0.050  27.0   63.0  0.99160  3.68  0.79  14.0\n",
       "3      7.2  0.620  0.06  2.5  0.078  17.0   84.0  0.99746  3.51  0.53   9.7\n",
       "4      7.4  0.640  0.07  1.8  0.100   8.0   23.0  0.99610  3.30  0.58   9.6\n",
       "...    ...    ...   ...  ...    ...   ...    ...      ...   ...   ...   ...\n",
       "1274   7.2  0.490  0.18  2.7  0.069  13.0   34.0  0.99670  3.29  0.48   9.2\n",
       "1275   9.2  0.580  0.20  3.0  0.081  15.0  115.0  0.99800  3.23  0.59   9.5\n",
       "1276   6.6  0.725  0.09  5.5  0.117   9.0   17.0  0.99655  3.35  0.49  10.8\n",
       "1277   7.2  0.630  0.00  1.9  0.097  14.0   38.0  0.99675  3.37  0.58   9.0\n",
       "1278   9.1  0.400  0.50  1.8  0.071   7.0   16.0  0.99462  3.21  0.69  12.5\n",
       "\n",
       "[1279 rows x 11 columns]"
      ]
     },
     "execution_count": 80,
     "metadata": {},
     "output_type": "execute_result"
    }
   ],
   "source": [
    "from sklearn.model_selection import train_test_split\n",
    "\n",
    "data_red = reds.values\n",
    "predictors_red, rating_red = data_red[:,:-1], data_red[:,-1]\n",
    "\n",
    "X_train_red, X_test_red, y_train_red, y_test_red = train_test_split(predictors_red, rating_red, test_size=0.20, random_state = 1) #random state shuffles data\n",
    "\n",
    "X_train_red = pd.DataFrame(X_train_red)\n",
    "X_train_red"
   ]
  },
  {
   "cell_type": "code",
   "execution_count": 81,
   "id": "prescription-picnic",
   "metadata": {},
   "outputs": [
    {
     "data": {
      "text/html": [
       "<div>\n",
       "<style scoped>\n",
       "    .dataframe tbody tr th:only-of-type {\n",
       "        vertical-align: middle;\n",
       "    }\n",
       "\n",
       "    .dataframe tbody tr th {\n",
       "        vertical-align: top;\n",
       "    }\n",
       "\n",
       "    .dataframe thead th {\n",
       "        text-align: right;\n",
       "    }\n",
       "</style>\n",
       "<table border=\"1\" class=\"dataframe\">\n",
       "  <thead>\n",
       "    <tr style=\"text-align: right;\">\n",
       "      <th></th>\n",
       "      <th>0</th>\n",
       "      <th>1</th>\n",
       "      <th>2</th>\n",
       "      <th>3</th>\n",
       "      <th>4</th>\n",
       "      <th>5</th>\n",
       "      <th>6</th>\n",
       "      <th>7</th>\n",
       "      <th>8</th>\n",
       "      <th>9</th>\n",
       "      <th>10</th>\n",
       "    </tr>\n",
       "  </thead>\n",
       "  <tbody>\n",
       "    <tr>\n",
       "      <th>0</th>\n",
       "      <td>-0.733079</td>\n",
       "      <td>0.664893</td>\n",
       "      <td>-1.257044</td>\n",
       "      <td>-0.320459</td>\n",
       "      <td>-0.453622</td>\n",
       "      <td>-0.742407</td>\n",
       "      <td>-0.645507</td>\n",
       "      <td>0.240001</td>\n",
       "      <td>0.988460</td>\n",
       "      <td>0.063095</td>\n",
       "      <td>-0.872234</td>\n",
       "    </tr>\n",
       "    <tr>\n",
       "      <th>1</th>\n",
       "      <td>1.067741</td>\n",
       "      <td>-0.623462</td>\n",
       "      <td>1.523148</td>\n",
       "      <td>0.608863</td>\n",
       "      <td>-0.369546</td>\n",
       "      <td>-1.125190</td>\n",
       "      <td>-1.112003</td>\n",
       "      <td>0.187899</td>\n",
       "      <td>-1.753513</td>\n",
       "      <td>-0.173904</td>\n",
       "      <td>-0.779785</td>\n",
       "    </tr>\n",
       "    <tr>\n",
       "      <th>2</th>\n",
       "      <td>-1.746040</td>\n",
       "      <td>-1.071585</td>\n",
       "      <td>-1.358142</td>\n",
       "      <td>-0.534917</td>\n",
       "      <td>-0.789922</td>\n",
       "      <td>1.075808</td>\n",
       "      <td>0.536281</td>\n",
       "      <td>-2.677737</td>\n",
       "      <td>2.327564</td>\n",
       "      <td>0.774090</td>\n",
       "      <td>3.287990</td>\n",
       "    </tr>\n",
       "    <tr>\n",
       "      <th>3</th>\n",
       "      <td>-0.620528</td>\n",
       "      <td>0.496847</td>\n",
       "      <td>-1.054849</td>\n",
       "      <td>-0.034513</td>\n",
       "      <td>-0.201396</td>\n",
       "      <td>0.118853</td>\n",
       "      <td>1.189375</td>\n",
       "      <td>0.375468</td>\n",
       "      <td>1.243528</td>\n",
       "      <td>-0.766400</td>\n",
       "      <td>-0.687335</td>\n",
       "    </tr>\n",
       "    <tr>\n",
       "      <th>4</th>\n",
       "      <td>-0.507977</td>\n",
       "      <td>0.608877</td>\n",
       "      <td>-1.004300</td>\n",
       "      <td>-0.534917</td>\n",
       "      <td>0.261018</td>\n",
       "      <td>-0.742407</td>\n",
       "      <td>-0.707707</td>\n",
       "      <td>-0.333126</td>\n",
       "      <td>-0.095575</td>\n",
       "      <td>-0.470152</td>\n",
       "      <td>-0.779785</td>\n",
       "    </tr>\n",
       "  </tbody>\n",
       "</table>\n",
       "</div>"
      ],
      "text/plain": [
       "         0         1         2         3         4         5         6   \\\n",
       "0 -0.733079  0.664893 -1.257044 -0.320459 -0.453622 -0.742407 -0.645507   \n",
       "1  1.067741 -0.623462  1.523148  0.608863 -0.369546 -1.125190 -1.112003   \n",
       "2 -1.746040 -1.071585 -1.358142 -0.534917 -0.789922  1.075808  0.536281   \n",
       "3 -0.620528  0.496847 -1.054849 -0.034513 -0.201396  0.118853  1.189375   \n",
       "4 -0.507977  0.608877 -1.004300 -0.534917  0.261018 -0.742407 -0.707707   \n",
       "\n",
       "         7         8         9         10  \n",
       "0  0.240001  0.988460  0.063095 -0.872234  \n",
       "1  0.187899 -1.753513 -0.173904 -0.779785  \n",
       "2 -2.677737  2.327564  0.774090  3.287990  \n",
       "3  0.375468  1.243528 -0.766400 -0.687335  \n",
       "4 -0.333126 -0.095575 -0.470152 -0.779785  "
      ]
     },
     "execution_count": 81,
     "metadata": {},
     "output_type": "execute_result"
    }
   ],
   "source": [
    "from sklearn.preprocessing import StandardScaler\n",
    "\n",
    "scaler = StandardScaler()\n",
    "X_train_red = pd.DataFrame(X_train_red)\n",
    "X_train_red[[0, 1, 2, 3, 4, 5, 6, 7, 8, 9, 10]] = scaler.fit_transform(X_train_red[[0, 1, 2, 3, 4, 5, 6, 7, 8, 9, 10]])\n",
    "X_train_red.head()"
   ]
  },
  {
   "cell_type": "code",
   "execution_count": 82,
   "id": "liable-marsh",
   "metadata": {},
   "outputs": [],
   "source": [
    "X_train_red = X_train_red.values\n",
    "predictors_red, rating_red = X_train_red[:,:-1], X_train_red[:,-1] #predictors and rating from training set"
   ]
  },
  {
   "cell_type": "code",
   "execution_count": 58,
   "id": "demonstrated-handle",
   "metadata": {},
   "outputs": [
    {
     "name": "stdout",
     "output_type": "stream",
     "text": [
      "Mean Squared Error: 0.328789\n",
      "Best lambda value: {'alpha': 0.00012000000000000002}\n"
     ]
    }
   ],
   "source": [
    "### LASSO AND GRID SEARCH \n",
    "\n",
    "from sklearn.linear_model import Lasso\n",
    "from sklearn.model_selection import GridSearchCV\n",
    "from sklearn.model_selection import RepeatedKFold\n",
    "from sklearn.model_selection import cross_val_score\n",
    "from numpy import arange\n",
    "from numpy import absolute\n",
    "\n",
    "model1 = Lasso()\n",
    "cv = RepeatedKFold(n_splits=5, n_repeats=1, random_state=1)\n",
    "grid = dict()\n",
    "grid['alpha'] = arange(0, 1, 0.00001) #start, stop, step size \n",
    "search = GridSearchCV(model1, grid, scoring='neg_mean_squared_error', cv=cv, n_jobs=-1)\n",
    "results = search.fit(predictors, rating)\n",
    "print('Mean Squared Error: %f' % absolute(results.best_score_))\n",
    "print('Best lambda value: %s' % results.best_params_)"
   ]
  },
  {
   "cell_type": "code",
   "execution_count": 84,
   "id": "marked-alberta",
   "metadata": {},
   "outputs": [
    {
     "name": "stdout",
     "output_type": "stream",
     "text": [
      "R^2 for reds training data: 36.558\n"
     ]
    }
   ],
   "source": [
    "best_model_red = Lasso(alpha = 0.00012000000000000002)\n",
    "best_model_red.fit(X_train_red, y_train_red)\n",
    "train_score_red = best_model_red.score(X_train_red,y_train_red)\n",
    "print(\"R^2 for reds training data:\", round(train_score_red * 100, 3))"
   ]
  },
  {
   "cell_type": "code",
   "execution_count": 86,
   "id": "velvet-child",
   "metadata": {},
   "outputs": [
    {
     "name": "stdout",
     "output_type": "stream",
     "text": [
      "R^2 for reds test data: 35.057\n"
     ]
    }
   ],
   "source": [
    "best_model_red.fit(X_test_red, y_test_red)\n",
    "test_score_red = best_model_red.score(X_test_red, y_test_red)\n",
    "print(\"R^2 for reds test data:\", round(test_score_red * 100, 3))"
   ]
  },
  {
   "cell_type": "code",
   "execution_count": 87,
   "id": "preceding-album",
   "metadata": {},
   "outputs": [
    {
     "name": "stdout",
     "output_type": "stream",
     "text": [
      "[-1.56838752e-02 -8.89795276e-01  2.27173233e-01  2.42466003e-02\n",
      " -2.17648342e+00  4.11297044e-04 -2.62490012e-03  0.00000000e+00\n",
      " -4.50090481e-01  9.26403462e-01  2.60840940e-01]\n"
     ]
    }
   ],
   "source": [
    "print(best_model_red.coef_)"
   ]
  },
  {
   "cell_type": "code",
   "execution_count": 89,
   "id": "latin-singapore",
   "metadata": {},
   "outputs": [
    {
     "data": {
      "image/png": "[encoded data removed]",
      "text/plain": [
       "<Figure size 1296x576 with 1 Axes>"
      ]
     },
     "metadata": {
      "needs_background": "light"
     },
     "output_type": "display_data"
    }
   ],
   "source": [
    "# alphas = arange(0.0001, 0.3, 0.0001)\n",
    "# l_num = alphas.size\n",
    "\n",
    "alphas = (.000001, .000002, .000005, .00001, .00002, .00005, .0001, .0002, .0005, .001, .002, .005, .01, .02, .05, .1, .2, .5)\n",
    "l_num = 18\n",
    "pred_num = predictors_red.shape[1]\n",
    "\n",
    "train_r_squared_red = np.zeros(l_num)\n",
    "train_mse_red = np.zeros(l_num)\n",
    "\n",
    "cv = RepeatedKFold(n_splits = 5, n_repeats = 3, random_state = 1) #n repeats?\n",
    "\n",
    "for ind, i in enumerate(alphas):    \n",
    "    # Fit lasso model with the given alpha value\n",
    "    reg = Lasso(alpha = i)\n",
    "    reg.fit(X_train_red, y_train_red)\n",
    "    \n",
    "    # Calculate MSE and R2 scores\n",
    "    errors = cross_val_score(reg, predictors_red, rating_red, scoring='neg_mean_squared_error', cv=cv, n_jobs=-1)\n",
    "    errors = absolute(errors)\n",
    "    mse = mean(errors)\n",
    "\n",
    "    # Load scores into plotted DFs\n",
    "    train_r_squared_red[ind] = reg.score(X_train_red, y_train_red)\n",
    "    train_mse_red[ind] = mse\n",
    "    \n",
    "    \n",
    "plt.figure(figsize=(18, 8))\n",
    "plt.plot(alphas, train_mse_red, 'bo-', label=r'MSE Training set', color=\"darkblue\", linewidth=3)\n",
    "plt.plot(alphas, train_r_squared_red, 'bo-', label=r'$R^2$ Training set', color=\"green\", alpha=0.6, linewidth=3)\n",
    "plt.xlabel('L1 Coefficient Value'); plt.ylabel(r'$R^2$ and MSE')\n",
    "plt.xscale(\"log\")\n",
    "plt.xlim(0.00001, 1)\n",
    "plt.ylim(0, 1)\n",
    "plt.title(r'Evaluate lasso regression with various L1 coefficients')\n",
    "plt.legend(loc='best')\n",
    "plt.grid()"
   ]
  },
  {
   "cell_type": "code",
   "execution_count": 62,
   "id": "bridal-packing",
   "metadata": {},
   "outputs": [
    {
     "name": "stdout",
     "output_type": "stream",
     "text": [
      "Mean Squared Error: 0.328788\n",
      "Best lambda value: {'alpha': 0.26317}\n"
     ]
    }
   ],
   "source": [
    "### Trying ridge regression ###\n",
    "\n",
    "from sklearn.linear_model import Ridge\n",
    "model1 = Ridge()\n",
    "cv = RepeatedKFold(n_splits=5, n_repeats=1, random_state=1)\n",
    "grid = dict()\n",
    "grid['alpha'] = arange(0, 1, 0.00001) #start, stop, step size \n",
    "search = GridSearchCV(model1, grid, scoring='neg_mean_squared_error', cv=cv, n_jobs=-1)\n",
    "results = search.fit(predictors, rating)\n",
    "print('Mean Squared Error: %f' % absolute(results.best_score_))\n",
    "print('Best lambda value: %s' % results.best_params_)"
   ]
  },
  {
   "cell_type": "code",
   "execution_count": 88,
   "id": "acknowledged-senior",
   "metadata": {},
   "outputs": [
    {
     "name": "stdout",
     "output_type": "stream",
     "text": [
      "R^2 for reds training data (ridge): 27.92\n",
      "[ 0.04240114 -0.19761341 -0.00111231  0.39048366 -0.01253152  0.05429668\n",
      " -0.00215981 -0.40650974  0.10160055  0.06331165  0.25434934]\n"
     ]
    }
   ],
   "source": [
    "best_model = Ridge(alpha = 0.26317)\n",
    "best_model.fit(X_train, y_train)\n",
    "train_score = best_model.score(X_train,y_train)\n",
    "print(\"R^2 for reds training data (ridge):\", round(train_score * 100, 3))\n",
    "print(best_model.coef_)"
   ]
  },
  {
   "cell_type": "code",
   "execution_count": 90,
   "id": "painted-sheffield",
   "metadata": {},
   "outputs": [],
   "source": [
    "##### WHITE WINE DATASET #####\n",
    "\n",
    "data_white = whites.values\n",
    "predictors_white, rating_white = data_white[:,:-1], data_white[:,-1]\n",
    "\n",
    "X_train_white, X_test_white, y_train_white, y_test_white = train_test_split(predictors_white, rating_white, test_size=0.20, random_state = 1) #random state shuffles data\n",
    "\n",
    "X_train_white = pd.DataFrame(X_train_white)\n",
    "\n",
    "scaler = StandardScaler()\n",
    "X_train_white = pd.DataFrame(X_train_white)\n",
    "X_train_white[[0, 1, 2, 3, 4, 5, 6, 7, 8, 9, 10]] = scaler.fit_transform(X_train_white[[0, 1, 2, 3, 4, 5, 6, 7, 8, 9, 10]])\n",
    "\n",
    "X_train_white = X_train_white.values\n",
    "predictors_white, rating_white = X_train_white[:,:-1], X_train_white[:,-1]"
   ]
  },
  {
   "cell_type": "code",
   "execution_count": 65,
   "id": "indie-bruce",
   "metadata": {},
   "outputs": [
    {
     "name": "stdout",
     "output_type": "stream",
     "text": [
      "Mean Squared Error: 0.148814\n",
      "Best lambda value: {'alpha': 0.0024000000000000002}\n"
     ]
    }
   ],
   "source": [
    "model_whites = Lasso()\n",
    "cv = RepeatedKFold(n_splits=5, n_repeats=1, random_state=1)\n",
    "grid = dict()\n",
    "grid['alpha'] = arange(0, 1, 0.00001) #start, stop, step size \n",
    "search = GridSearchCV(model_whites, grid, scoring='neg_mean_squared_error', cv=cv, n_jobs=-1)\n",
    "results = search.fit(predictors, rating)\n",
    "print('Mean Squared Error: %f' % absolute(results.best_score_))\n",
    "print('Best lambda value: %s' % results.best_params_)"
   ]
  },
  {
   "cell_type": "code",
   "execution_count": 91,
   "id": "suitable-cleaner",
   "metadata": {},
   "outputs": [
    {
     "name": "stdout",
     "output_type": "stream",
     "text": [
      "R^2 for whites training data: 27.866\n"
     ]
    }
   ],
   "source": [
    "best_model_white = Lasso(alpha = 0.0024000000000000002)\n",
    "best_model_white.fit(X_train_white, y_train_white)\n",
    "train_score_white = best_model_white.score(X_train_white,y_train_white)\n",
    "print(\"R^2 for whites training data:\", round(train_score_white * 100, 3))"
   ]
  },
  {
   "cell_type": "code",
   "execution_count": 92,
   "id": "existing-partner",
   "metadata": {},
   "outputs": [
    {
     "name": "stdout",
     "output_type": "stream",
     "text": [
      "R^2 for whites test data: 28.506\n"
     ]
    }
   ],
   "source": [
    "best_model_white.fit(X_test_white, y_test_white)\n",
    "test_score_white = best_model_white.score(X_test_white, y_test_white)\n",
    "print(\"R^2 for whites test data:\", round(test_score_white * 100, 3))"
   ]
  },
  {
   "cell_type": "code",
   "execution_count": 94,
   "id": "activated-eugene",
   "metadata": {},
   "outputs": [
    {
     "name": "stdout",
     "output_type": "stream",
     "text": [
      "[-0.02270474 -1.31876669  0.          0.02263887 -0.          0.008613\n",
      " -0.00258854 -0.          0.          0.49564617  0.3566296 ]\n"
     ]
    }
   ],
   "source": [
    "print(best_model_white.coef_)"
   ]
  },
  {
   "cell_type": "code",
   "execution_count": 77,
   "id": "stylish-oregon",
   "metadata": {},
   "outputs": [
    {
     "name": "stdout",
     "output_type": "stream",
     "text": [
      "0.15160555763986655\n",
      "0.4235988151841004\n"
     ]
    },
    {
     "data": {
      "image/png": "[encoded data removed]",
      "text/plain": [
       "<Figure size 1296x576 with 1 Axes>"
      ]
     },
     "metadata": {
      "needs_background": "light"
     },
     "output_type": "display_data"
    }
   ],
   "source": [
    "alphas = (.000001, .000002, .000005, .00001, .00002, .00005, .0001, .0002, .0005, .001, .002, .005, .01, .02, .05, .1, .2, .5)\n",
    "l_num = 18\n",
    "pred_num = predictors_white.shape[1]\n",
    "\n",
    "train_r_squared_white = np.zeros(l_num)\n",
    "train_mse_white = np.zeros(l_num)\n",
    "\n",
    "cv = RepeatedKFold(n_splits = 5, n_repeats = 3, random_state = 1) #n repeats?\n",
    "\n",
    "for ind, i in enumerate(alphas):    \n",
    "    # Fit lasso model with the given alpha value\n",
    "    reg = Lasso(alpha = i)\n",
    "    reg.fit(X_train_white, y_train_white)\n",
    "    \n",
    "    # Calculate MSE and R2 scores\n",
    "    errors = cross_val_score(reg, predictors_white, rating_white, scoring='neg_mean_squared_error', cv=cv, n_jobs=-1)\n",
    "    errors = absolute(errors)\n",
    "    mse = mean(errors)\n",
    "\n",
    "    # Load scores into plotted DFs\n",
    "    train_r_squared_white[ind] = reg.score(X_train, y_train)\n",
    "    train_mse_white[ind] = mse\n",
    "    \n",
    "    \n",
    "plt.figure(figsize=(18, 8))\n",
    "plt.plot(alphas, train_mse_white, 'bo-', label=r'MSE White Wine Training set', color=\"#9c9460\", linewidth=3)\n",
    "# plt.plot(alphas, train_r_squared_white, 'bo-', label=r'$R^2$ White Wine Training set', color=\"#9c9460\", linewidth=3, linestyle='dashed')\n",
    "\n",
    "plt.plot(alphas, train_mse_red, 'bo-', label=r'MSE Red Wine Training set', color=\"#59000f\", linewidth=3)\n",
    "# plt.plot(alphas, train_r_squared_red, 'bo-', label=r'$R^2$ Red Wine Training set', color=\"#59000f\", linewidth=3, linestyle='dashed')\n",
    "\n",
    "\n",
    "plt.xlabel('L1 Coefficient Value'); plt.ylabel(r'MSE Score')\n",
    "plt.xscale(\"log\")\n",
    "plt.xlim(0.00001, 1)\n",
    "plt.ylim(0, 1)\n",
    "plt.title(r'Evaluating lasso regression with various L1 coefficients')\n",
    "plt.legend(loc='best')\n",
    "plt.grid()\n"
   ]
  },
  {
   "cell_type": "code",
   "execution_count": 69,
   "id": "departmental-special",
   "metadata": {},
   "outputs": [
    {
     "name": "stdout",
     "output_type": "stream",
     "text": [
      "Mean Squared Error: 0.149180\n",
      "Best lambda value: {'alpha': 0.99999}\n"
     ]
    }
   ],
   "source": [
    "### trying ridge regression ###\n",
    "\n",
    "model1 = Ridge()\n",
    "cv = RepeatedKFold(n_splits=5, n_repeats=1, random_state=1)\n",
    "grid = dict()\n",
    "grid['alpha'] = arange(0, 1, 0.00001) #start, stop, step size \n",
    "search = GridSearchCV(model1, grid, scoring='neg_mean_squared_error', cv=cv, n_jobs=-1)\n",
    "results = search.fit(predictors, rating)\n",
    "print('Mean Squared Error: %f' % absolute(results.best_score_))\n",
    "print('Best lambda value: %s' % results.best_params_)"
   ]
  },
  {
   "cell_type": "code",
   "execution_count": 70,
   "id": "simple-parameter",
   "metadata": {},
   "outputs": [
    {
     "name": "stdout",
     "output_type": "stream",
     "text": [
      "R^2 for training data: 27.92\n",
      "[ 0.04177709 -0.19761634 -0.00113269  0.38859839 -0.01266657  0.05440674\n",
      " -0.00230307 -0.40375996  0.10107869  0.06315026  0.25549393]\n"
     ]
    }
   ],
   "source": [
    "best_model = Ridge(alpha = 0.99999)\n",
    "best_model.fit(X_train, y_train)\n",
    "train_score = best_model.score(X_train,y_train)\n",
    "print(\"R^2 for training data:\", round(train_score * 100, 3))\n",
    "print(best_model.coef_)"
   ]
  },
  {
   "cell_type": "code",
   "execution_count": 71,
   "id": "ultimate-browser",
   "metadata": {},
   "outputs": [
    {
     "name": "stdout",
     "output_type": "stream",
     "text": [
      "R^2 for test data: 28.63\n",
      "[-0.02638613 -1.39406442  0.10499621  0.02364215 -0.07676272  0.00839721\n",
      " -0.00257887 -0.0505429   0.05629355  0.603596    0.35971093]\n"
     ]
    }
   ],
   "source": [
    "best_model.fit(X_test, y_test)\n",
    "test_score = best_model.score(X_test,y_test)\n",
    "print(\"R^2 for test data:\", round(test_score * 100, 3))\n",
    "print(best_model.coef_)"
   ]
  }
 ],
 "metadata": {
  "kernelspec": {
   "display_name": "Python 3",
   "language": "python",
   "name": "python3"
  },
  "language_info": {
   "codemirror_mode": {
    "name": "ipython",
    "version": 3
   },
   "file_extension": ".py",
   "mimetype": "text/x-python",
   "name": "python",
   "nbconvert_exporter": "python",
   "pygments_lexer": "ipython3",
   "version": "3.7.9"
  }
 },
 "nbformat": 4,
 "nbformat_minor": 5
}
