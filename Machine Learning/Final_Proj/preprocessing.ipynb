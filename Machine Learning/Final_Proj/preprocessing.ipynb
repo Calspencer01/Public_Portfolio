{
 "cells": [
  {
   "cell_type": "code",
   "execution_count": 1,
   "id": "surgical-checklist",
   "metadata": {},
   "outputs": [
    {
     "data": {
      "text/plain": [
       "'\\nFinal Project.\\n\\nThis program builds a classifier for the Large-Scale Fish dataset using Scikit-Learn.\\n\\nAuthors: Calvin Spencer and Rida Shahid\\n'"
      ]
     },
     "execution_count": 1,
     "metadata": {},
     "output_type": "execute_result"
    }
   ],
   "source": [
    "\"\"\"\n",
    "Final Project.\n",
    "\n",
    "This program builds a classifier for the Large-Scale Fish dataset using Scikit-Learn.\n",
    "\n",
    "Authors: Calvin Spencer and Rida Shahid\n",
    "\"\"\""
   ]
  },
  {
   "cell_type": "code",
   "execution_count": 5,
   "id": "unlikely-winner",
   "metadata": {},
   "outputs": [],
   "source": [
    "import zipfile\n",
    "with zipfile.ZipFile(\"NA_Fish_Dataset.zip\",\"r\") as zip_ref:\n",
    "    zip_ref.extractall(\"data\")"
   ]
  },
  {
   "cell_type": "code",
   "execution_count": 10,
   "id": "racial-muslim",
   "metadata": {},
   "outputs": [
    {
     "data": {
      "text/plain": [
       "['data/NA_Fish_Dataset/Sea Bass',\n",
       " 'data/NA_Fish_Dataset/Red Mullet',\n",
       " 'data/NA_Fish_Dataset/Gilt Head Bream',\n",
       " 'data/NA_Fish_Dataset/Red Sea Bream',\n",
       " 'data/NA_Fish_Dataset/Shrimp',\n",
       " 'data/NA_Fish_Dataset/Black Sea Sprat',\n",
       " 'data/NA_Fish_Dataset/Horse Mackerel',\n",
       " 'data/NA_Fish_Dataset/Striped Red Mullet',\n",
       " 'data/NA_Fish_Dataset/Trout']"
      ]
     },
     "execution_count": 10,
     "metadata": {},
     "output_type": "execute_result"
    }
   ],
   "source": [
    "import glob\n",
    "glob.glob('data/NA_Fish_Dataset/**')"
   ]
  },
  {
   "cell_type": "code",
   "execution_count": 11,
   "id": "incorrect-reception",
   "metadata": {},
   "outputs": [
    {
     "name": "stdout",
     "output_type": "stream",
     "text": [
      "Defaulting to user installation because normal site-packages is not writeable\n",
      "Collecting opencv-python\n",
      "  Downloading opencv_python-4.5.2.52-cp37-cp37m-manylinux2014_x86_64.whl (51.0 MB)\n",
      "\u001b[K     |████████████████████████████████| 51.0 MB 136 kB/s eta 0:00:01\n",
      "\u001b[?25hRequirement already satisfied: numpy>=1.14.5 in /scratch/apps-cache/conda/envs/common/lib/python3.7/site-packages (from opencv-python) (1.19.5)\n",
      "Installing collected packages: opencv-python\n",
      "Successfully installed opencv-python-4.5.2.52\n",
      "Note: you may need to restart the kernel to use updated packages.\n"
     ]
    }
   ],
   "source": [
    "pip install opencv-python"
   ]
  },
  {
   "cell_type": "code",
   "execution_count": 6,
   "id": "thick-passenger",
   "metadata": {},
   "outputs": [
    {
     "data": {
      "text/plain": [
       "<matplotlib.image.AxesImage at 0x145e9c5d5550>"
      ]
     },
     "execution_count": 6,
     "metadata": {},
     "output_type": "execute_result"
    },
    {
     "data": {
      "image/png": "[encoded data removed]",
      "text/plain": [
       "<Figure size 432x288 with 1 Axes>"
      ]
     },
     "metadata": {
      "needs_background": "light"
     },
     "output_type": "display_data"
    }
   ],
   "source": [
    "import cv2 as cv\n",
    "img = cv.imread(\"data/NA_Fish_Dataset/Sea Bass/10.JPG\")\n",
    "img = cv.resize(img, (64,64))\n",
    "import numpy as np\n",
    "import matplotlib.pyplot as plt\n",
    "plt.imshow(img)"
   ]
  },
  {
   "cell_type": "code",
   "execution_count": 46,
   "id": "assured-observer",
   "metadata": {},
   "outputs": [],
   "source": [
    "from pathlib import Path\n",
    "import os\n",
    "file = Path(\"data/NA_Fish_Dataset\")\n",
    "File_Path_png = list(file.glob(\"**/*.png\"))\n",
    "Labels_png = list(map(lambda x: os.path.split(os.path.split(x)[0])[1],File_Path))\n",
    "\n",
    "File_Path_jpg = list(file.glob(\"**/*.JPG\"))\n",
    "Labels_jpg = list(map(lambda x: os.path.split(os.path.split(x)[0])[1],File_Path_jpg))"
   ]
  },
  {
   "cell_type": "code",
   "execution_count": 47,
   "id": "automated-entity",
   "metadata": {},
   "outputs": [
    {
     "name": "stdout",
     "output_type": "stream",
     "text": [
      "{'Gilt Head Bream', 'Black Sea Sprat', 'Trout', 'Horse Mackerel', 'Shrimp', 'Red Mullet', 'Striped Red Mullet'}\n",
      "{'Red Sea Bream', 'Sea Bass', 'Gilt Head Bream'}\n",
      "281\n",
      "148\n"
     ]
    }
   ],
   "source": [
    "print(set(Labels_png))\n",
    "print(set(Labels_jpg))\n",
    "print(len(set(File_Path_png)))\n",
    "print(len(set(File_Path_jpg)))"
   ]
  },
  {
   "cell_type": "code",
   "execution_count": 48,
   "id": "scheduled-stupid",
   "metadata": {},
   "outputs": [],
   "source": [
    "import pandas as pd\n",
    "\n",
    "File_Path_png = pd.Series(File_Path_png).astype(str)\n",
    "Labels_png = pd.Series(Labels_png)\n",
    "data_png = pd.concat([File_Path_png,Labels_png],axis=1)\n",
    "\n",
    "File_Path_jpg = pd.Series(File_Path_jpg).astype(str)\n",
    "Labels_jpg = pd.Series(Labels_jpg)\n",
    "data_jpg = pd.concat([File_Path_jpg,Labels_jpg],axis=1)\n",
    "\n",
    "data.columns = ['image', 'label']"
   ]
  },
  {
   "cell_type": "code",
   "execution_count": 24,
   "id": "outstanding-cowboy",
   "metadata": {},
   "outputs": [
    {
     "name": "stdout",
     "output_type": "stream",
     "text": [
      "data/NA_Fish_Dataset/Red Mullet/00046.png\n",
      "data/NA_Fish_Dataset/Sea Bass/48.JPG\n"
     ]
    }
   ],
   "source": [
    "print(File_Path_png[0])\n",
    "print(File_Path_jpg[0])"
   ]
  },
  {
   "cell_type": "code",
   "execution_count": 49,
   "id": "weighted-evidence",
   "metadata": {},
   "outputs": [
    {
     "name": "stdout",
     "output_type": "stream",
     "text": [
      "data/NA_Fish_Dataset/Sea Bass/48.JPG\n",
      "data/NA_Fish_Dataset/Sea Bass/49.JPG\n",
      "data/NA_Fish_Dataset/Sea Bass/8.JPG\n",
      "data/NA_Fish_Dataset/Sea Bass/9.JPG\n",
      "data/NA_Fish_Dataset/Sea Bass/14.JPG\n",
      "data/NA_Fish_Dataset/Sea Bass/28.JPG\n",
      "data/NA_Fish_Dataset/Sea Bass/29.JPG\n",
      "data/NA_Fish_Dataset/Sea Bass/15.JPG\n",
      "data/NA_Fish_Dataset/Sea Bass/17.JPG\n",
      "data/NA_Fish_Dataset/Sea Bass/16.JPG\n",
      "data/NA_Fish_Dataset/Sea Bass/12.JPG\n",
      "data/NA_Fish_Dataset/Sea Bass/13.JPG\n",
      "data/NA_Fish_Dataset/Sea Bass/39.JPG\n",
      "data/NA_Fish_Dataset/Sea Bass/11.JPG\n",
      "data/NA_Fish_Dataset/Sea Bass/10.JPG\n",
      "data/NA_Fish_Dataset/Sea Bass/38.JPG\n",
      "data/NA_Fish_Dataset/Sea Bass/21.JPG\n",
      "data/NA_Fish_Dataset/Sea Bass/35.JPG\n",
      "data/NA_Fish_Dataset/Sea Bass/34.JPG\n",
      "data/NA_Fish_Dataset/Sea Bass/20.JPG\n",
      "data/NA_Fish_Dataset/Sea Bass/36.JPG\n",
      "data/NA_Fish_Dataset/Sea Bass/22.JPG\n",
      "data/NA_Fish_Dataset/Sea Bass/23.JPG\n",
      "data/NA_Fish_Dataset/Sea Bass/37.JPG\n",
      "data/NA_Fish_Dataset/Sea Bass/33.JPG\n",
      "data/NA_Fish_Dataset/Sea Bass/27.JPG\n",
      "data/NA_Fish_Dataset/Sea Bass/26.JPG\n",
      "data/NA_Fish_Dataset/Sea Bass/32.JPG\n",
      "data/NA_Fish_Dataset/Sea Bass/18.JPG\n",
      "data/NA_Fish_Dataset/Sea Bass/24.JPG\n",
      "data/NA_Fish_Dataset/Sea Bass/30.JPG\n",
      "data/NA_Fish_Dataset/Sea Bass/31.JPG\n",
      "data/NA_Fish_Dataset/Sea Bass/25.JPG\n",
      "data/NA_Fish_Dataset/Sea Bass/19.JPG\n",
      "data/NA_Fish_Dataset/Sea Bass/42.JPG\n",
      "data/NA_Fish_Dataset/Sea Bass/4.JPG\n",
      "data/NA_Fish_Dataset/Sea Bass/5.JPG\n",
      "data/NA_Fish_Dataset/Sea Bass/43.JPG\n",
      "data/NA_Fish_Dataset/Sea Bass/7.JPG\n",
      "data/NA_Fish_Dataset/Sea Bass/41.JPG\n",
      "data/NA_Fish_Dataset/Sea Bass/40.JPG\n",
      "data/NA_Fish_Dataset/Sea Bass/6.JPG\n",
      "data/NA_Fish_Dataset/Sea Bass/2.JPG\n",
      "data/NA_Fish_Dataset/Sea Bass/50.JPG\n",
      "data/NA_Fish_Dataset/Sea Bass/44.JPG\n",
      "data/NA_Fish_Dataset/Sea Bass/45.JPG\n",
      "data/NA_Fish_Dataset/Sea Bass/3.JPG\n",
      "data/NA_Fish_Dataset/Sea Bass/47.JPG\n",
      "data/NA_Fish_Dataset/Sea Bass/1.JPG\n",
      "data/NA_Fish_Dataset/Sea Bass/46.JPG\n",
      "data/NA_Fish_Dataset/Gilt Head Bream/48.JPG\n",
      "data/NA_Fish_Dataset/Gilt Head Bream/49.JPG\n",
      "data/NA_Fish_Dataset/Gilt Head Bream/8.JPG\n",
      "data/NA_Fish_Dataset/Gilt Head Bream/9.JPG\n",
      "data/NA_Fish_Dataset/Gilt Head Bream/14.JPG\n",
      "data/NA_Fish_Dataset/Gilt Head Bream/28.JPG\n",
      "data/NA_Fish_Dataset/Gilt Head Bream/29.JPG\n",
      "data/NA_Fish_Dataset/Gilt Head Bream/15.JPG\n",
      "data/NA_Fish_Dataset/Gilt Head Bream/17.JPG\n",
      "data/NA_Fish_Dataset/Gilt Head Bream/16.JPG\n",
      "data/NA_Fish_Dataset/Gilt Head Bream/12.JPG\n",
      "data/NA_Fish_Dataset/Gilt Head Bream/13.JPG\n",
      "data/NA_Fish_Dataset/Gilt Head Bream/39.JPG\n",
      "data/NA_Fish_Dataset/Gilt Head Bream/11.JPG\n",
      "data/NA_Fish_Dataset/Gilt Head Bream/10.JPG\n",
      "data/NA_Fish_Dataset/Gilt Head Bream/38.JPG\n",
      "data/NA_Fish_Dataset/Gilt Head Bream/35.JPG\n",
      "data/NA_Fish_Dataset/Gilt Head Bream/34.JPG\n",
      "data/NA_Fish_Dataset/Gilt Head Bream/20.JPG\n",
      "data/NA_Fish_Dataset/Gilt Head Bream/36.JPG\n",
      "data/NA_Fish_Dataset/Gilt Head Bream/22.JPG\n",
      "data/NA_Fish_Dataset/Gilt Head Bream/23.JPG\n",
      "data/NA_Fish_Dataset/Gilt Head Bream/37.JPG\n",
      "data/NA_Fish_Dataset/Gilt Head Bream/33.JPG\n",
      "data/NA_Fish_Dataset/Gilt Head Bream/27.JPG\n",
      "data/NA_Fish_Dataset/Gilt Head Bream/26.JPG\n",
      "data/NA_Fish_Dataset/Gilt Head Bream/32.JPG\n",
      "data/NA_Fish_Dataset/Gilt Head Bream/18.JPG\n",
      "data/NA_Fish_Dataset/Gilt Head Bream/24.JPG\n",
      "data/NA_Fish_Dataset/Gilt Head Bream/30.JPG\n",
      "data/NA_Fish_Dataset/Gilt Head Bream/31.JPG\n",
      "data/NA_Fish_Dataset/Gilt Head Bream/25.JPG\n",
      "data/NA_Fish_Dataset/Gilt Head Bream/19.JPG\n",
      "data/NA_Fish_Dataset/Gilt Head Bream/42.JPG\n",
      "data/NA_Fish_Dataset/Gilt Head Bream/4.JPG\n",
      "data/NA_Fish_Dataset/Gilt Head Bream/5.JPG\n",
      "data/NA_Fish_Dataset/Gilt Head Bream/43.JPG\n",
      "data/NA_Fish_Dataset/Gilt Head Bream/7.JPG\n",
      "data/NA_Fish_Dataset/Gilt Head Bream/41.JPG\n",
      "data/NA_Fish_Dataset/Gilt Head Bream/40.JPG\n",
      "data/NA_Fish_Dataset/Gilt Head Bream/6.JPG\n",
      "data/NA_Fish_Dataset/Gilt Head Bream/2.JPG\n",
      "data/NA_Fish_Dataset/Gilt Head Bream/50.JPG\n",
      "data/NA_Fish_Dataset/Gilt Head Bream/44.JPG\n",
      "data/NA_Fish_Dataset/Gilt Head Bream/45.JPG\n",
      "data/NA_Fish_Dataset/Gilt Head Bream/3.JPG\n",
      "data/NA_Fish_Dataset/Gilt Head Bream/47.JPG\n",
      "data/NA_Fish_Dataset/Gilt Head Bream/1.JPG\n",
      "data/NA_Fish_Dataset/Gilt Head Bream/46.JPG\n",
      "data/NA_Fish_Dataset/Red Sea Bream/100_1480.JPG\n",
      "data/NA_Fish_Dataset/Red Sea Bream/SAM_5577.JPG\n",
      "data/NA_Fish_Dataset/Red Sea Bream/100_1481.JPG\n",
      "data/NA_Fish_Dataset/Red Sea Bream/100_1483.JPG\n",
      "data/NA_Fish_Dataset/Red Sea Bream/SAM_5561.JPG\n",
      "data/NA_Fish_Dataset/Red Sea Bream/SAM_5575.JPG\n",
      "data/NA_Fish_Dataset/Red Sea Bream/SAM_5549.JPG\n",
      "data/NA_Fish_Dataset/Red Sea Bream/100_1482.JPG\n",
      "data/NA_Fish_Dataset/Red Sea Bream/100_1486.JPG\n",
      "data/NA_Fish_Dataset/Red Sea Bream/100_1479.JPG\n",
      "data/NA_Fish_Dataset/Red Sea Bream/SAM_5571.JPG\n",
      "data/NA_Fish_Dataset/Red Sea Bream/SAM_5565.JPG\n",
      "data/NA_Fish_Dataset/Red Sea Bream/SAM_5558.JPG\n",
      "data/NA_Fish_Dataset/Red Sea Bream/SAM_5564.JPG\n",
      "data/NA_Fish_Dataset/Red Sea Bream/100_1478.JPG\n",
      "data/NA_Fish_Dataset/Red Sea Bream/100_1487.JPG\n",
      "data/NA_Fish_Dataset/Red Sea Bream/100_1485.JPG\n",
      "data/NA_Fish_Dataset/Red Sea Bream/SAM_5573.JPG\n",
      "data/NA_Fish_Dataset/Red Sea Bream/100_1484.JPG\n",
      "data/NA_Fish_Dataset/Red Sea Bream/SAM_5538.JPG\n",
      "data/NA_Fish_Dataset/Red Sea Bream/SAM_5535.JPG\n",
      "data/NA_Fish_Dataset/Red Sea Bream/SAM_5534.JPG\n",
      "data/NA_Fish_Dataset/Red Sea Bream/SAM_5536.JPG\n",
      "data/NA_Fish_Dataset/Red Sea Bream/SAM_5537.JPG\n",
      "data/NA_Fish_Dataset/Red Sea Bream/SAM_5533.JPG\n",
      "data/NA_Fish_Dataset/Red Sea Bream/100_1489.JPG\n",
      "data/NA_Fish_Dataset/Red Sea Bream/100_1476.JPG\n",
      "data/NA_Fish_Dataset/Red Sea Bream/100_1462.JPG\n",
      "data/NA_Fish_Dataset/Red Sea Bream/SAM_5581.JPG\n",
      "data/NA_Fish_Dataset/Red Sea Bream/SAM_5557.JPG\n",
      "data/NA_Fish_Dataset/Red Sea Bream/SAM_5543.JPG\n",
      "data/NA_Fish_Dataset/Red Sea Bream/100_1463.JPG\n",
      "data/NA_Fish_Dataset/Red Sea Bream/100_1477.JPG\n",
      "data/NA_Fish_Dataset/Red Sea Bream/100_1488.JPG\n",
      "data/NA_Fish_Dataset/Red Sea Bream/100_1461.JPG\n",
      "data/NA_Fish_Dataset/Red Sea Bream/SAM_5582.JPG\n",
      "data/NA_Fish_Dataset/Red Sea Bream/SAM_5569.JPG\n",
      "data/NA_Fish_Dataset/Red Sea Bream/SAM_5555.JPG\n",
      "data/NA_Fish_Dataset/Red Sea Bream/SAM_5540.JPG\n",
      "data/NA_Fish_Dataset/Red Sea Bream/SAM_5554.JPG\n",
      "data/NA_Fish_Dataset/Red Sea Bream/SAM_5568.JPG\n",
      "data/NA_Fish_Dataset/Red Sea Bream/SAM_5583.JPG\n",
      "data/NA_Fish_Dataset/Red Sea Bream/SAM_5550.JPG\n",
      "data/NA_Fish_Dataset/Red Sea Bream/SAM_5544.JPG\n",
      "data/NA_Fish_Dataset/Red Sea Bream/SAM_5545.JPG\n",
      "data/NA_Fish_Dataset/Red Sea Bream/SAM_5551.JPG\n",
      "data/NA_Fish_Dataset/Red Sea Bream/100_1465.JPG\n",
      "data/NA_Fish_Dataset/Red Sea Bream/SAM_5547.JPG\n",
      "data/NA_Fish_Dataset/Red Sea Bream/SAM_5552.JPG\n"
     ]
    }
   ],
   "source": [
    "from PIL import Image\n",
    "for i in File_Path_jpg:\n",
    "    print(i)\n",
    "    im1 = Image.open(i)\n",
    "    im1.save(i[:-3]+'png')"
   ]
  },
  {
   "cell_type": "code",
   "execution_count": 50,
   "id": "seasonal-gender",
   "metadata": {},
   "outputs": [
    {
     "name": "stdout",
     "output_type": "stream",
     "text": [
      "{'Sea Bass', 'Gilt Head Bream', 'Black Sea Sprat', 'Trout', 'Horse Mackerel', 'Red Sea Bream', 'Shrimp', 'Red Mullet', 'Striped Red Mullet'}\n"
     ]
    }
   ],
   "source": [
    "File_Path = list(file.glob(r\"**/*.png\"))\n",
    "Labels = list(map(lambda x: os.path.split(os.path.split(x)[0])[1],File_Path))\n",
    "print(set(Labels))\n",
    "import pandas as pd\n",
    "File_Path = pd.Series(File_Path).astype(str)\n",
    "Labels = pd.Series(Labels)\n",
    "data = pd.concat([File_Path,Labels],axis=1)\n",
    "data.columns = ['image', 'label']"
   ]
  },
  {
   "cell_type": "code",
   "execution_count": 53,
   "id": "modern-straight",
   "metadata": {},
   "outputs": [
    {
     "data": {
      "text/plain": [
       "0      data/NA_Fish_Dataset/Sea Bass/48.png\n",
       "1      data/NA_Fish_Dataset/Sea Bass/49.png\n",
       "2       data/NA_Fish_Dataset/Sea Bass/8.png\n",
       "3       data/NA_Fish_Dataset/Sea Bass/9.png\n",
       "4      data/NA_Fish_Dataset/Sea Bass/14.png\n",
       "                       ...                 \n",
       "424    data/NA_Fish_Dataset/Trout/00029.png\n",
       "425    data/NA_Fish_Dataset/Trout/00015.png\n",
       "426    data/NA_Fish_Dataset/Trout/00001.png\n",
       "427    data/NA_Fish_Dataset/Trout/00014.png\n",
       "428    data/NA_Fish_Dataset/Trout/00028.png\n",
       "Length: 429, dtype: object"
      ]
     },
     "execution_count": 53,
     "metadata": {},
     "output_type": "execute_result"
    }
   ],
   "source": [
    "File_Path"
   ]
  },
  {
   "cell_type": "code",
   "execution_count": 54,
   "id": "anticipated-watershed",
   "metadata": {},
   "outputs": [
    {
     "data": {
      "text/html": [
       "<div>\n",
       "<style scoped>\n",
       "    .dataframe tbody tr th:only-of-type {\n",
       "        vertical-align: middle;\n",
       "    }\n",
       "\n",
       "    .dataframe tbody tr th {\n",
       "        vertical-align: top;\n",
       "    }\n",
       "\n",
       "    .dataframe thead th {\n",
       "        text-align: right;\n",
       "    }\n",
       "</style>\n",
       "<table border=\"1\" class=\"dataframe\">\n",
       "  <thead>\n",
       "    <tr style=\"text-align: right;\">\n",
       "      <th></th>\n",
       "      <th>image</th>\n",
       "      <th>label</th>\n",
       "    </tr>\n",
       "  </thead>\n",
       "  <tbody>\n",
       "    <tr>\n",
       "      <th>0</th>\n",
       "      <td>data/NA_Fish_Dataset/Sea Bass/48.png</td>\n",
       "      <td>Sea Bass</td>\n",
       "    </tr>\n",
       "    <tr>\n",
       "      <th>1</th>\n",
       "      <td>data/NA_Fish_Dataset/Sea Bass/49.png</td>\n",
       "      <td>Sea Bass</td>\n",
       "    </tr>\n",
       "    <tr>\n",
       "      <th>2</th>\n",
       "      <td>data/NA_Fish_Dataset/Sea Bass/8.png</td>\n",
       "      <td>Sea Bass</td>\n",
       "    </tr>\n",
       "    <tr>\n",
       "      <th>3</th>\n",
       "      <td>data/NA_Fish_Dataset/Sea Bass/9.png</td>\n",
       "      <td>Sea Bass</td>\n",
       "    </tr>\n",
       "    <tr>\n",
       "      <th>4</th>\n",
       "      <td>data/NA_Fish_Dataset/Sea Bass/14.png</td>\n",
       "      <td>Sea Bass</td>\n",
       "    </tr>\n",
       "  </tbody>\n",
       "</table>\n",
       "</div>"
      ],
      "text/plain": [
       "                                  image     label\n",
       "0  data/NA_Fish_Dataset/Sea Bass/48.png  Sea Bass\n",
       "1  data/NA_Fish_Dataset/Sea Bass/49.png  Sea Bass\n",
       "2   data/NA_Fish_Dataset/Sea Bass/8.png  Sea Bass\n",
       "3   data/NA_Fish_Dataset/Sea Bass/9.png  Sea Bass\n",
       "4  data/NA_Fish_Dataset/Sea Bass/14.png  Sea Bass"
      ]
     },
     "execution_count": 54,
     "metadata": {},
     "output_type": "execute_result"
    }
   ],
   "source": [
    "data.head()"
   ]
  },
  {
   "cell_type": "code",
   "execution_count": 55,
   "id": "dressed-chicago",
   "metadata": {},
   "outputs": [
    {
     "data": {
      "text/html": [
       "<div>\n",
       "<style scoped>\n",
       "    .dataframe tbody tr th:only-of-type {\n",
       "        vertical-align: middle;\n",
       "    }\n",
       "\n",
       "    .dataframe tbody tr th {\n",
       "        vertical-align: top;\n",
       "    }\n",
       "\n",
       "    .dataframe thead th {\n",
       "        text-align: right;\n",
       "    }\n",
       "</style>\n",
       "<table border=\"1\" class=\"dataframe\">\n",
       "  <thead>\n",
       "    <tr style=\"text-align: right;\">\n",
       "      <th></th>\n",
       "      <th>image</th>\n",
       "      <th>label</th>\n",
       "    </tr>\n",
       "  </thead>\n",
       "  <tbody>\n",
       "    <tr>\n",
       "      <th>424</th>\n",
       "      <td>data/NA_Fish_Dataset/Trout/00029.png</td>\n",
       "      <td>Trout</td>\n",
       "    </tr>\n",
       "    <tr>\n",
       "      <th>425</th>\n",
       "      <td>data/NA_Fish_Dataset/Trout/00015.png</td>\n",
       "      <td>Trout</td>\n",
       "    </tr>\n",
       "    <tr>\n",
       "      <th>426</th>\n",
       "      <td>data/NA_Fish_Dataset/Trout/00001.png</td>\n",
       "      <td>Trout</td>\n",
       "    </tr>\n",
       "    <tr>\n",
       "      <th>427</th>\n",
       "      <td>data/NA_Fish_Dataset/Trout/00014.png</td>\n",
       "      <td>Trout</td>\n",
       "    </tr>\n",
       "    <tr>\n",
       "      <th>428</th>\n",
       "      <td>data/NA_Fish_Dataset/Trout/00028.png</td>\n",
       "      <td>Trout</td>\n",
       "    </tr>\n",
       "  </tbody>\n",
       "</table>\n",
       "</div>"
      ],
      "text/plain": [
       "                                    image  label\n",
       "424  data/NA_Fish_Dataset/Trout/00029.png  Trout\n",
       "425  data/NA_Fish_Dataset/Trout/00015.png  Trout\n",
       "426  data/NA_Fish_Dataset/Trout/00001.png  Trout\n",
       "427  data/NA_Fish_Dataset/Trout/00014.png  Trout\n",
       "428  data/NA_Fish_Dataset/Trout/00028.png  Trout"
      ]
     },
     "execution_count": 55,
     "metadata": {},
     "output_type": "execute_result"
    }
   ],
   "source": [
    "data.tail()"
   ]
  },
  {
   "cell_type": "code",
   "execution_count": 56,
   "id": "nonprofit-induction",
   "metadata": {},
   "outputs": [
    {
     "name": "stdout",
     "output_type": "stream",
     "text": [
      "\n",
      "Classes:\n",
      " ['Sea Bass' 'Red Mullet' 'Gilt Head Bream' 'Red Sea Bream' 'Shrimp'\n",
      " 'Black Sea Sprat' 'Horse Mackerel' 'Striped Red Mullet' 'Trout'] \n"
     ]
    }
   ],
   "source": [
    "classes = data['label'].unique()\n",
    "print(f'\\nClasses:\\n {classes} ')"
   ]
  },
  {
   "cell_type": "code",
   "execution_count": 57,
   "id": "bizarre-bibliography",
   "metadata": {},
   "outputs": [
    {
     "name": "stdout",
     "output_type": "stream",
     "text": [
      "429\n"
     ]
    }
   ],
   "source": [
    "print(len(data))\n",
    "for i in range(len(data)):\n",
    "    if data['label'][i] == '.ipynb_checkpoints':\n",
    "        print(data.iloc[i])"
   ]
  },
  {
   "cell_type": "code",
   "execution_count": 58,
   "id": "future-baghdad",
   "metadata": {},
   "outputs": [
    {
     "name": "stdout",
     "output_type": "stream",
     "text": [
      "                                         image       label\n",
      "50   data/NA_Fish_Dataset/Red Mullet/00046.png  Red Mullet\n",
      "51   data/NA_Fish_Dataset/Red Mullet/00047.png  Red Mullet\n",
      "52   data/NA_Fish_Dataset/Red Mullet/00045.png  Red Mullet\n",
      "53   data/NA_Fish_Dataset/Red Mullet/00050.png  Red Mullet\n",
      "54   data/NA_Fish_Dataset/Red Mullet/00044.png  Red Mullet\n",
      "..                                         ...         ...\n",
      "424       data/NA_Fish_Dataset/Trout/00029.png       Trout\n",
      "425       data/NA_Fish_Dataset/Trout/00015.png       Trout\n",
      "426       data/NA_Fish_Dataset/Trout/00001.png       Trout\n",
      "427       data/NA_Fish_Dataset/Trout/00014.png       Trout\n",
      "428       data/NA_Fish_Dataset/Trout/00028.png       Trout\n",
      "\n",
      "[379 rows x 2 columns]\n"
     ]
    }
   ],
   "source": [
    "print(data.loc[50:'image'])\n",
    "data = data.drop(data.index[50])"
   ]
  },
  {
   "cell_type": "code",
   "execution_count": 59,
   "id": "regular-shoot",
   "metadata": {},
   "outputs": [
    {
     "name": "stdout",
     "output_type": "stream",
     "text": [
      "                                             image           label\n",
      "299  data/NA_Fish_Dataset/Horse Mackerel/00046.png  Horse Mackerel\n",
      "300  data/NA_Fish_Dataset/Horse Mackerel/00047.png  Horse Mackerel\n",
      "301  data/NA_Fish_Dataset/Horse Mackerel/00045.png  Horse Mackerel\n",
      "302  data/NA_Fish_Dataset/Horse Mackerel/00050.png  Horse Mackerel\n",
      "303  data/NA_Fish_Dataset/Horse Mackerel/00044.png  Horse Mackerel\n",
      "..                                             ...             ...\n",
      "424           data/NA_Fish_Dataset/Trout/00029.png           Trout\n",
      "425           data/NA_Fish_Dataset/Trout/00015.png           Trout\n",
      "426           data/NA_Fish_Dataset/Trout/00001.png           Trout\n",
      "427           data/NA_Fish_Dataset/Trout/00014.png           Trout\n",
      "428           data/NA_Fish_Dataset/Trout/00028.png           Trout\n",
      "\n",
      "[130 rows x 2 columns]\n"
     ]
    }
   ],
   "source": [
    "print(data.loc[299:'image'])\n",
    "data = data.drop(data.index[299])"
   ]
  },
  {
   "cell_type": "code",
   "execution_count": 60,
   "id": "unique-nebraska",
   "metadata": {},
   "outputs": [
    {
     "name": "stdout",
     "output_type": "stream",
     "text": [
      "427\n"
     ]
    }
   ],
   "source": [
    "print(len(data))"
   ]
  },
  {
   "cell_type": "code",
   "execution_count": 61,
   "id": "conceptual-printer",
   "metadata": {},
   "outputs": [
    {
     "name": "stdout",
     "output_type": "stream",
     "text": [
      "[['Black Sea Sprat' 50]\n",
      " ['Gilt Head Bream' 50]\n",
      " ['Horse Mackerel' 49]\n",
      " ['Red Mullet' 49]\n",
      " ['Red Sea Bream' 49]\n",
      " ['Sea Bass' 50]\n",
      " ['Shrimp' 50]\n",
      " ['Striped Red Mullet' 50]\n",
      " ['Trout' 30]]\n"
     ]
    }
   ],
   "source": [
    "Y = data['label']\n",
    "print(np.array(np.unique(Y, return_counts=True)).T)"
   ]
  },
  {
   "cell_type": "code",
   "execution_count": 62,
   "id": "medium-senator",
   "metadata": {},
   "outputs": [],
   "source": [
    "from sklearn.utils import shuffle\n",
    "data = shuffle(data)"
   ]
  },
  {
   "cell_type": "code",
   "execution_count": 63,
   "id": "illegal-piece",
   "metadata": {},
   "outputs": [
    {
     "data": {
      "text/html": [
       "<div>\n",
       "<style scoped>\n",
       "    .dataframe tbody tr th:only-of-type {\n",
       "        vertical-align: middle;\n",
       "    }\n",
       "\n",
       "    .dataframe tbody tr th {\n",
       "        vertical-align: top;\n",
       "    }\n",
       "\n",
       "    .dataframe thead th {\n",
       "        text-align: right;\n",
       "    }\n",
       "</style>\n",
       "<table border=\"1\" class=\"dataframe\">\n",
       "  <thead>\n",
       "    <tr style=\"text-align: right;\">\n",
       "      <th></th>\n",
       "      <th>image</th>\n",
       "      <th>label</th>\n",
       "    </tr>\n",
       "  </thead>\n",
       "  <tbody>\n",
       "    <tr>\n",
       "      <th>287</th>\n",
       "      <td>data/NA_Fish_Dataset/Black Sea Sprat/00006.png</td>\n",
       "      <td>Black Sea Sprat</td>\n",
       "    </tr>\n",
       "    <tr>\n",
       "      <th>57</th>\n",
       "      <td>data/NA_Fish_Dataset/Red Mullet/00043.png</td>\n",
       "      <td>Red Mullet</td>\n",
       "    </tr>\n",
       "    <tr>\n",
       "      <th>152</th>\n",
       "      <td>data/NA_Fish_Dataset/Red Sea Bream/100_1481.png</td>\n",
       "      <td>Red Sea Bream</td>\n",
       "    </tr>\n",
       "    <tr>\n",
       "      <th>308</th>\n",
       "      <td>data/NA_Fish_Dataset/Horse Mackerel/00031.png</td>\n",
       "      <td>Horse Mackerel</td>\n",
       "    </tr>\n",
       "    <tr>\n",
       "      <th>425</th>\n",
       "      <td>data/NA_Fish_Dataset/Trout/00015.png</td>\n",
       "      <td>Trout</td>\n",
       "    </tr>\n",
       "  </tbody>\n",
       "</table>\n",
       "</div>"
      ],
      "text/plain": [
       "                                               image            label\n",
       "287   data/NA_Fish_Dataset/Black Sea Sprat/00006.png  Black Sea Sprat\n",
       "57         data/NA_Fish_Dataset/Red Mullet/00043.png       Red Mullet\n",
       "152  data/NA_Fish_Dataset/Red Sea Bream/100_1481.png    Red Sea Bream\n",
       "308    data/NA_Fish_Dataset/Horse Mackerel/00031.png   Horse Mackerel\n",
       "425             data/NA_Fish_Dataset/Trout/00015.png            Trout"
      ]
     },
     "execution_count": 63,
     "metadata": {},
     "output_type": "execute_result"
    }
   ],
   "source": [
    "data.head()"
   ]
  },
  {
   "cell_type": "code",
   "execution_count": 64,
   "id": "answering-tower",
   "metadata": {},
   "outputs": [
    {
     "data": {
      "text/html": [
       "<div>\n",
       "<style scoped>\n",
       "    .dataframe tbody tr th:only-of-type {\n",
       "        vertical-align: middle;\n",
       "    }\n",
       "\n",
       "    .dataframe tbody tr th {\n",
       "        vertical-align: top;\n",
       "    }\n",
       "\n",
       "    .dataframe thead th {\n",
       "        text-align: right;\n",
       "    }\n",
       "</style>\n",
       "<table border=\"1\" class=\"dataframe\">\n",
       "  <thead>\n",
       "    <tr style=\"text-align: right;\">\n",
       "      <th></th>\n",
       "      <th>image</th>\n",
       "      <th>label</th>\n",
       "    </tr>\n",
       "  </thead>\n",
       "  <tbody>\n",
       "    <tr>\n",
       "      <th>322</th>\n",
       "      <td>data/NA_Fish_Dataset/Horse Mackerel/00008.png</td>\n",
       "      <td>Horse Mackerel</td>\n",
       "    </tr>\n",
       "    <tr>\n",
       "      <th>334</th>\n",
       "      <td>data/NA_Fish_Dataset/Horse Mackerel/00007.png</td>\n",
       "      <td>Horse Mackerel</td>\n",
       "    </tr>\n",
       "    <tr>\n",
       "      <th>345</th>\n",
       "      <td>data/NA_Fish_Dataset/Horse Mackerel/00014.png</td>\n",
       "      <td>Horse Mackerel</td>\n",
       "    </tr>\n",
       "    <tr>\n",
       "      <th>371</th>\n",
       "      <td>data/NA_Fish_Dataset/Striped Red Mullet/00022.png</td>\n",
       "      <td>Striped Red Mullet</td>\n",
       "    </tr>\n",
       "    <tr>\n",
       "      <th>93</th>\n",
       "      <td>data/NA_Fish_Dataset/Red Mullet/00029.png</td>\n",
       "      <td>Red Mullet</td>\n",
       "    </tr>\n",
       "  </tbody>\n",
       "</table>\n",
       "</div>"
      ],
      "text/plain": [
       "                                                 image               label\n",
       "322      data/NA_Fish_Dataset/Horse Mackerel/00008.png      Horse Mackerel\n",
       "334      data/NA_Fish_Dataset/Horse Mackerel/00007.png      Horse Mackerel\n",
       "345      data/NA_Fish_Dataset/Horse Mackerel/00014.png      Horse Mackerel\n",
       "371  data/NA_Fish_Dataset/Striped Red Mullet/00022.png  Striped Red Mullet\n",
       "93           data/NA_Fish_Dataset/Red Mullet/00029.png          Red Mullet"
      ]
     },
     "execution_count": 64,
     "metadata": {},
     "output_type": "execute_result"
    }
   ],
   "source": [
    "data.tail()"
   ]
  },
  {
   "cell_type": "code",
   "execution_count": 65,
   "id": "intimate-metadata",
   "metadata": {},
   "outputs": [],
   "source": [
    "data.to_csv('data_csv.csv')"
   ]
  },
  {
   "cell_type": "code",
   "execution_count": null,
   "id": "tropical-covering",
   "metadata": {},
   "outputs": [],
   "source": []
  },
  {
   "cell_type": "code",
   "execution_count": null,
   "id": "demonstrated-spider",
   "metadata": {},
   "outputs": [],
   "source": []
  },
  {
   "cell_type": "code",
   "execution_count": null,
   "id": "quarterly-glory",
   "metadata": {},
   "outputs": [],
   "source": []
  }
 ],
 "metadata": {
  "kernelspec": {
   "display_name": "Python 3",
   "language": "python",
   "name": "python3"
  },
  "language_info": {
   "codemirror_mode": {
    "name": "ipython",
    "version": 3
   },
   "file_extension": ".py",
   "mimetype": "text/x-python",
   "name": "python",
   "nbconvert_exporter": "python",
   "pygments_lexer": "ipython3",
   "version": "3.7.9"
  }
 },
 "nbformat": 4,
 "nbformat_minor": 5
}
