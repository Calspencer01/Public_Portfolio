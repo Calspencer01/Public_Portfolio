{
 "cells": [
  {
   "cell_type": "code",
   "execution_count": 2,
   "id": "sealed-establishment",
   "metadata": {},
   "outputs": [],
   "source": [
    "from tensorflow.keras.layers import Conv2D, MaxPooling2D, Dropout, Flatten, Dense, Layer, BatchNormalization, GlobalAveragePooling2D \n",
    "from tensorflow.keras.optimizers import Adam\n",
    "from tensorflow.keras.regularizers import l1\n",
    "from tensorflow.keras.models import Sequential\n",
    "from tensorflow.keras.callbacks import EarlyStopping,ReduceLROnPlateau\n",
    "from tensorflow.keras.preprocessing.image import ImageDataGenerator\n",
    "from sklearn.model_selection import train_test_split\n",
    "from PIL import Image \n",
    "import cv2\n",
    "import os\n",
    "import tensorflow as tf\n",
    "from sklearn.preprocessing import LabelEncoder\n",
    "from keras.utils.np_utils import to_categorical   "
   ]
  },
  {
   "cell_type": "code",
   "execution_count": 3,
   "id": "undefined-algorithm",
   "metadata": {},
   "outputs": [],
   "source": [
    "import matplotlib.pyplot as plt\n",
    "import numpy as np # linear algebra\n",
    "import pandas as pd"
   ]
  },
  {
   "cell_type": "code",
   "execution_count": 4,
   "id": "reflected-shelf",
   "metadata": {},
   "outputs": [],
   "source": [
    "# ensure consistency across runs\n",
    "np.random.seed(1)\n",
    "tf.random.set_seed(1)"
   ]
  },
  {
   "cell_type": "code",
   "execution_count": 5,
   "id": "clinical-export",
   "metadata": {},
   "outputs": [],
   "source": [
    "import matplotlib.pyplot as plt\n",
    "import matplotlib.image as mpimg"
   ]
  },
  {
   "cell_type": "code",
   "execution_count": 6,
   "id": "medical-failing",
   "metadata": {},
   "outputs": [
    {
     "data": {
      "text/plain": [
       "['Sea Bass',\n",
       " 'Red Mullet',\n",
       " 'Gilt Head Bream',\n",
       " 'Red Sea Bream',\n",
       " 'Shrimp',\n",
       " 'Black Sea Sprat',\n",
       " 'Horse Mackerel',\n",
       " 'Striped Red Mullet',\n",
       " 'Trout']"
      ]
     },
     "execution_count": 6,
     "metadata": {},
     "output_type": "execute_result"
    }
   ],
   "source": [
    "MAIN_DIR = \"NA_Fish_Dataset/\"\n",
    "fish_classes = [name for name in os.listdir(MAIN_DIR) if os.path.isdir(os.path.join(MAIN_DIR, name))]\n",
    "fish_classes"
   ]
  },
  {
   "cell_type": "code",
   "execution_count": 7,
   "id": "hundred-chicago",
   "metadata": {},
   "outputs": [],
   "source": [
    "image_files = []\n",
    "image_classes = []\n",
    "import pdb\n",
    "for f_class in fish_classes:\n",
    "    for files in os.listdir(os.path.join(MAIN_DIR,f_class)):\n",
    "        if files[-3:] == 'png':\n",
    "            image_files.append(os.path.join(MAIN_DIR,f_class,files))\n",
    "            image_classes.append(f_class)"
   ]
  },
  {
   "cell_type": "code",
   "execution_count": 8,
   "id": "divided-colony",
   "metadata": {},
   "outputs": [
    {
     "data": {
      "text/html": [
       "<div>\n",
       "<style scoped>\n",
       "    .dataframe tbody tr th:only-of-type {\n",
       "        vertical-align: middle;\n",
       "    }\n",
       "\n",
       "    .dataframe tbody tr th {\n",
       "        vertical-align: top;\n",
       "    }\n",
       "\n",
       "    .dataframe thead th {\n",
       "        text-align: right;\n",
       "    }\n",
       "</style>\n",
       "<table border=\"1\" class=\"dataframe\">\n",
       "  <thead>\n",
       "    <tr style=\"text-align: right;\">\n",
       "      <th></th>\n",
       "      <th>path</th>\n",
       "      <th>class</th>\n",
       "      <th>Black Sea Sprat</th>\n",
       "      <th>Gilt Head Bream</th>\n",
       "      <th>Horse Mackerel</th>\n",
       "      <th>Red Mullet</th>\n",
       "      <th>Red Sea Bream</th>\n",
       "      <th>Sea Bass</th>\n",
       "      <th>Shrimp</th>\n",
       "      <th>Striped Red Mullet</th>\n",
       "      <th>Trout</th>\n",
       "    </tr>\n",
       "  </thead>\n",
       "  <tbody>\n",
       "    <tr>\n",
       "      <th>0</th>\n",
       "      <td>NA_Fish_Dataset/Sea Bass/48.png</td>\n",
       "      <td>Sea Bass</td>\n",
       "      <td>0</td>\n",
       "      <td>0</td>\n",
       "      <td>0</td>\n",
       "      <td>0</td>\n",
       "      <td>0</td>\n",
       "      <td>1</td>\n",
       "      <td>0</td>\n",
       "      <td>0</td>\n",
       "      <td>0</td>\n",
       "    </tr>\n",
       "    <tr>\n",
       "      <th>1</th>\n",
       "      <td>NA_Fish_Dataset/Sea Bass/49.png</td>\n",
       "      <td>Sea Bass</td>\n",
       "      <td>0</td>\n",
       "      <td>0</td>\n",
       "      <td>0</td>\n",
       "      <td>0</td>\n",
       "      <td>0</td>\n",
       "      <td>1</td>\n",
       "      <td>0</td>\n",
       "      <td>0</td>\n",
       "      <td>0</td>\n",
       "    </tr>\n",
       "    <tr>\n",
       "      <th>2</th>\n",
       "      <td>NA_Fish_Dataset/Sea Bass/8.png</td>\n",
       "      <td>Sea Bass</td>\n",
       "      <td>0</td>\n",
       "      <td>0</td>\n",
       "      <td>0</td>\n",
       "      <td>0</td>\n",
       "      <td>0</td>\n",
       "      <td>1</td>\n",
       "      <td>0</td>\n",
       "      <td>0</td>\n",
       "      <td>0</td>\n",
       "    </tr>\n",
       "    <tr>\n",
       "      <th>3</th>\n",
       "      <td>NA_Fish_Dataset/Sea Bass/9.png</td>\n",
       "      <td>Sea Bass</td>\n",
       "      <td>0</td>\n",
       "      <td>0</td>\n",
       "      <td>0</td>\n",
       "      <td>0</td>\n",
       "      <td>0</td>\n",
       "      <td>1</td>\n",
       "      <td>0</td>\n",
       "      <td>0</td>\n",
       "      <td>0</td>\n",
       "    </tr>\n",
       "    <tr>\n",
       "      <th>4</th>\n",
       "      <td>NA_Fish_Dataset/Sea Bass/14.png</td>\n",
       "      <td>Sea Bass</td>\n",
       "      <td>0</td>\n",
       "      <td>0</td>\n",
       "      <td>0</td>\n",
       "      <td>0</td>\n",
       "      <td>0</td>\n",
       "      <td>1</td>\n",
       "      <td>0</td>\n",
       "      <td>0</td>\n",
       "      <td>0</td>\n",
       "    </tr>\n",
       "    <tr>\n",
       "      <th>...</th>\n",
       "      <td>...</td>\n",
       "      <td>...</td>\n",
       "      <td>...</td>\n",
       "      <td>...</td>\n",
       "      <td>...</td>\n",
       "      <td>...</td>\n",
       "      <td>...</td>\n",
       "      <td>...</td>\n",
       "      <td>...</td>\n",
       "      <td>...</td>\n",
       "      <td>...</td>\n",
       "    </tr>\n",
       "    <tr>\n",
       "      <th>424</th>\n",
       "      <td>NA_Fish_Dataset/Trout/00029.png</td>\n",
       "      <td>Trout</td>\n",
       "      <td>0</td>\n",
       "      <td>0</td>\n",
       "      <td>0</td>\n",
       "      <td>0</td>\n",
       "      <td>0</td>\n",
       "      <td>0</td>\n",
       "      <td>0</td>\n",
       "      <td>0</td>\n",
       "      <td>1</td>\n",
       "    </tr>\n",
       "    <tr>\n",
       "      <th>425</th>\n",
       "      <td>NA_Fish_Dataset/Trout/00015.png</td>\n",
       "      <td>Trout</td>\n",
       "      <td>0</td>\n",
       "      <td>0</td>\n",
       "      <td>0</td>\n",
       "      <td>0</td>\n",
       "      <td>0</td>\n",
       "      <td>0</td>\n",
       "      <td>0</td>\n",
       "      <td>0</td>\n",
       "      <td>1</td>\n",
       "    </tr>\n",
       "    <tr>\n",
       "      <th>426</th>\n",
       "      <td>NA_Fish_Dataset/Trout/00001.png</td>\n",
       "      <td>Trout</td>\n",
       "      <td>0</td>\n",
       "      <td>0</td>\n",
       "      <td>0</td>\n",
       "      <td>0</td>\n",
       "      <td>0</td>\n",
       "      <td>0</td>\n",
       "      <td>0</td>\n",
       "      <td>0</td>\n",
       "      <td>1</td>\n",
       "    </tr>\n",
       "    <tr>\n",
       "      <th>427</th>\n",
       "      <td>NA_Fish_Dataset/Trout/00014.png</td>\n",
       "      <td>Trout</td>\n",
       "      <td>0</td>\n",
       "      <td>0</td>\n",
       "      <td>0</td>\n",
       "      <td>0</td>\n",
       "      <td>0</td>\n",
       "      <td>0</td>\n",
       "      <td>0</td>\n",
       "      <td>0</td>\n",
       "      <td>1</td>\n",
       "    </tr>\n",
       "    <tr>\n",
       "      <th>428</th>\n",
       "      <td>NA_Fish_Dataset/Trout/00028.png</td>\n",
       "      <td>Trout</td>\n",
       "      <td>0</td>\n",
       "      <td>0</td>\n",
       "      <td>0</td>\n",
       "      <td>0</td>\n",
       "      <td>0</td>\n",
       "      <td>0</td>\n",
       "      <td>0</td>\n",
       "      <td>0</td>\n",
       "      <td>1</td>\n",
       "    </tr>\n",
       "  </tbody>\n",
       "</table>\n",
       "<p>429 rows × 11 columns</p>\n",
       "</div>"
      ],
      "text/plain": [
       "                                path     class  Black Sea Sprat  \\\n",
       "0    NA_Fish_Dataset/Sea Bass/48.png  Sea Bass                0   \n",
       "1    NA_Fish_Dataset/Sea Bass/49.png  Sea Bass                0   \n",
       "2     NA_Fish_Dataset/Sea Bass/8.png  Sea Bass                0   \n",
       "3     NA_Fish_Dataset/Sea Bass/9.png  Sea Bass                0   \n",
       "4    NA_Fish_Dataset/Sea Bass/14.png  Sea Bass                0   \n",
       "..                               ...       ...              ...   \n",
       "424  NA_Fish_Dataset/Trout/00029.png     Trout                0   \n",
       "425  NA_Fish_Dataset/Trout/00015.png     Trout                0   \n",
       "426  NA_Fish_Dataset/Trout/00001.png     Trout                0   \n",
       "427  NA_Fish_Dataset/Trout/00014.png     Trout                0   \n",
       "428  NA_Fish_Dataset/Trout/00028.png     Trout                0   \n",
       "\n",
       "     Gilt Head Bream  Horse Mackerel  Red Mullet  Red Sea Bream  Sea Bass  \\\n",
       "0                  0               0           0              0         1   \n",
       "1                  0               0           0              0         1   \n",
       "2                  0               0           0              0         1   \n",
       "3                  0               0           0              0         1   \n",
       "4                  0               0           0              0         1   \n",
       "..               ...             ...         ...            ...       ...   \n",
       "424                0               0           0              0         0   \n",
       "425                0               0           0              0         0   \n",
       "426                0               0           0              0         0   \n",
       "427                0               0           0              0         0   \n",
       "428                0               0           0              0         0   \n",
       "\n",
       "     Shrimp  Striped Red Mullet  Trout  \n",
       "0         0                   0      0  \n",
       "1         0                   0      0  \n",
       "2         0                   0      0  \n",
       "3         0                   0      0  \n",
       "4         0                   0      0  \n",
       "..      ...                 ...    ...  \n",
       "424       0                   0      1  \n",
       "425       0                   0      1  \n",
       "426       0                   0      1  \n",
       "427       0                   0      1  \n",
       "428       0                   0      1  \n",
       "\n",
       "[429 rows x 11 columns]"
      ]
     },
     "execution_count": 8,
     "metadata": {},
     "output_type": "execute_result"
    }
   ],
   "source": [
    "fish_data = pd.DataFrame({'path':image_files, 'class':image_classes, })\n",
    "dum_df = pd.get_dummies(fish_data[\"class\"])\n",
    "label_columns = dum_df.columns\n",
    "fish_data = fish_data.join(dum_df)\n",
    "fish_data"
   ]
  },
  {
   "cell_type": "code",
   "execution_count": 9,
   "id": "exact-joining",
   "metadata": {},
   "outputs": [],
   "source": [
    "train_data , test_data = train_test_split(fish_data, test_size=0.2, stratify=fish_data[\"class\"])"
   ]
  },
  {
   "cell_type": "code",
   "execution_count": 10,
   "id": "uniform-supplement",
   "metadata": {},
   "outputs": [
    {
     "data": {
      "text/plain": [
       "((343, 11), (86, 11), (429, 11))"
      ]
     },
     "execution_count": 10,
     "metadata": {},
     "output_type": "execute_result"
    }
   ],
   "source": [
    "train_data.shape,test_data.shape,fish_data.shape"
   ]
  },
  {
   "cell_type": "code",
   "execution_count": 11,
   "id": "digital-prevention",
   "metadata": {},
   "outputs": [
    {
     "data": {
      "text/html": [
       "<div>\n",
       "<style scoped>\n",
       "    .dataframe tbody tr th:only-of-type {\n",
       "        vertical-align: middle;\n",
       "    }\n",
       "\n",
       "    .dataframe tbody tr th {\n",
       "        vertical-align: top;\n",
       "    }\n",
       "\n",
       "    .dataframe thead th {\n",
       "        text-align: right;\n",
       "    }\n",
       "</style>\n",
       "<table border=\"1\" class=\"dataframe\">\n",
       "  <thead>\n",
       "    <tr style=\"text-align: right;\">\n",
       "      <th></th>\n",
       "      <th>path</th>\n",
       "      <th>class</th>\n",
       "      <th>Black Sea Sprat</th>\n",
       "      <th>Gilt Head Bream</th>\n",
       "      <th>Horse Mackerel</th>\n",
       "      <th>Red Mullet</th>\n",
       "      <th>Red Sea Bream</th>\n",
       "      <th>Sea Bass</th>\n",
       "      <th>Shrimp</th>\n",
       "      <th>Striped Red Mullet</th>\n",
       "      <th>Trout</th>\n",
       "    </tr>\n",
       "  </thead>\n",
       "  <tbody>\n",
       "    <tr>\n",
       "      <th>35</th>\n",
       "      <td>NA_Fish_Dataset/Sea Bass/4.png</td>\n",
       "      <td>Sea Bass</td>\n",
       "      <td>0</td>\n",
       "      <td>0</td>\n",
       "      <td>0</td>\n",
       "      <td>0</td>\n",
       "      <td>0</td>\n",
       "      <td>1</td>\n",
       "      <td>0</td>\n",
       "      <td>0</td>\n",
       "      <td>0</td>\n",
       "    </tr>\n",
       "    <tr>\n",
       "      <th>210</th>\n",
       "      <td>NA_Fish_Dataset/Shrimp/00019.png</td>\n",
       "      <td>Shrimp</td>\n",
       "      <td>0</td>\n",
       "      <td>0</td>\n",
       "      <td>0</td>\n",
       "      <td>0</td>\n",
       "      <td>0</td>\n",
       "      <td>0</td>\n",
       "      <td>1</td>\n",
       "      <td>0</td>\n",
       "      <td>0</td>\n",
       "    </tr>\n",
       "    <tr>\n",
       "      <th>230</th>\n",
       "      <td>NA_Fish_Dataset/Shrimp/00038.png</td>\n",
       "      <td>Shrimp</td>\n",
       "      <td>0</td>\n",
       "      <td>0</td>\n",
       "      <td>0</td>\n",
       "      <td>0</td>\n",
       "      <td>0</td>\n",
       "      <td>0</td>\n",
       "      <td>1</td>\n",
       "      <td>0</td>\n",
       "      <td>0</td>\n",
       "    </tr>\n",
       "    <tr>\n",
       "      <th>426</th>\n",
       "      <td>NA_Fish_Dataset/Trout/00001.png</td>\n",
       "      <td>Trout</td>\n",
       "      <td>0</td>\n",
       "      <td>0</td>\n",
       "      <td>0</td>\n",
       "      <td>0</td>\n",
       "      <td>0</td>\n",
       "      <td>0</td>\n",
       "      <td>0</td>\n",
       "      <td>0</td>\n",
       "      <td>1</td>\n",
       "    </tr>\n",
       "    <tr>\n",
       "      <th>8</th>\n",
       "      <td>NA_Fish_Dataset/Sea Bass/17.png</td>\n",
       "      <td>Sea Bass</td>\n",
       "      <td>0</td>\n",
       "      <td>0</td>\n",
       "      <td>0</td>\n",
       "      <td>0</td>\n",
       "      <td>0</td>\n",
       "      <td>1</td>\n",
       "      <td>0</td>\n",
       "      <td>0</td>\n",
       "      <td>0</td>\n",
       "    </tr>\n",
       "    <tr>\n",
       "      <th>...</th>\n",
       "      <td>...</td>\n",
       "      <td>...</td>\n",
       "      <td>...</td>\n",
       "      <td>...</td>\n",
       "      <td>...</td>\n",
       "      <td>...</td>\n",
       "      <td>...</td>\n",
       "      <td>...</td>\n",
       "      <td>...</td>\n",
       "      <td>...</td>\n",
       "      <td>...</td>\n",
       "    </tr>\n",
       "    <tr>\n",
       "      <th>392</th>\n",
       "      <td>NA_Fish_Dataset/Striped Red Mullet/00029.png</td>\n",
       "      <td>Striped Red Mullet</td>\n",
       "      <td>0</td>\n",
       "      <td>0</td>\n",
       "      <td>0</td>\n",
       "      <td>0</td>\n",
       "      <td>0</td>\n",
       "      <td>0</td>\n",
       "      <td>0</td>\n",
       "      <td>1</td>\n",
       "      <td>0</td>\n",
       "    </tr>\n",
       "    <tr>\n",
       "      <th>362</th>\n",
       "      <td>NA_Fish_Dataset/Striped Red Mullet/00024.png</td>\n",
       "      <td>Striped Red Mullet</td>\n",
       "      <td>0</td>\n",
       "      <td>0</td>\n",
       "      <td>0</td>\n",
       "      <td>0</td>\n",
       "      <td>0</td>\n",
       "      <td>0</td>\n",
       "      <td>0</td>\n",
       "      <td>1</td>\n",
       "      <td>0</td>\n",
       "    </tr>\n",
       "    <tr>\n",
       "      <th>16</th>\n",
       "      <td>NA_Fish_Dataset/Sea Bass/21.png</td>\n",
       "      <td>Sea Bass</td>\n",
       "      <td>0</td>\n",
       "      <td>0</td>\n",
       "      <td>0</td>\n",
       "      <td>0</td>\n",
       "      <td>0</td>\n",
       "      <td>1</td>\n",
       "      <td>0</td>\n",
       "      <td>0</td>\n",
       "      <td>0</td>\n",
       "    </tr>\n",
       "    <tr>\n",
       "      <th>335</th>\n",
       "      <td>NA_Fish_Dataset/Horse Mackerel/00013.png</td>\n",
       "      <td>Horse Mackerel</td>\n",
       "      <td>0</td>\n",
       "      <td>0</td>\n",
       "      <td>1</td>\n",
       "      <td>0</td>\n",
       "      <td>0</td>\n",
       "      <td>0</td>\n",
       "      <td>0</td>\n",
       "      <td>0</td>\n",
       "      <td>0</td>\n",
       "    </tr>\n",
       "    <tr>\n",
       "      <th>121</th>\n",
       "      <td>NA_Fish_Dataset/Gilt Head Bream/22.png</td>\n",
       "      <td>Gilt Head Bream</td>\n",
       "      <td>0</td>\n",
       "      <td>1</td>\n",
       "      <td>0</td>\n",
       "      <td>0</td>\n",
       "      <td>0</td>\n",
       "      <td>0</td>\n",
       "      <td>0</td>\n",
       "      <td>0</td>\n",
       "      <td>0</td>\n",
       "    </tr>\n",
       "  </tbody>\n",
       "</table>\n",
       "<p>343 rows × 11 columns</p>\n",
       "</div>"
      ],
      "text/plain": [
       "                                             path               class  \\\n",
       "35                 NA_Fish_Dataset/Sea Bass/4.png            Sea Bass   \n",
       "210              NA_Fish_Dataset/Shrimp/00019.png              Shrimp   \n",
       "230              NA_Fish_Dataset/Shrimp/00038.png              Shrimp   \n",
       "426               NA_Fish_Dataset/Trout/00001.png               Trout   \n",
       "8                 NA_Fish_Dataset/Sea Bass/17.png            Sea Bass   \n",
       "..                                            ...                 ...   \n",
       "392  NA_Fish_Dataset/Striped Red Mullet/00029.png  Striped Red Mullet   \n",
       "362  NA_Fish_Dataset/Striped Red Mullet/00024.png  Striped Red Mullet   \n",
       "16                NA_Fish_Dataset/Sea Bass/21.png            Sea Bass   \n",
       "335      NA_Fish_Dataset/Horse Mackerel/00013.png      Horse Mackerel   \n",
       "121        NA_Fish_Dataset/Gilt Head Bream/22.png     Gilt Head Bream   \n",
       "\n",
       "     Black Sea Sprat  Gilt Head Bream  Horse Mackerel  Red Mullet  \\\n",
       "35                 0                0               0           0   \n",
       "210                0                0               0           0   \n",
       "230                0                0               0           0   \n",
       "426                0                0               0           0   \n",
       "8                  0                0               0           0   \n",
       "..               ...              ...             ...         ...   \n",
       "392                0                0               0           0   \n",
       "362                0                0               0           0   \n",
       "16                 0                0               0           0   \n",
       "335                0                0               1           0   \n",
       "121                0                1               0           0   \n",
       "\n",
       "     Red Sea Bream  Sea Bass  Shrimp  Striped Red Mullet  Trout  \n",
       "35               0         1       0                   0      0  \n",
       "210              0         0       1                   0      0  \n",
       "230              0         0       1                   0      0  \n",
       "426              0         0       0                   0      1  \n",
       "8                0         1       0                   0      0  \n",
       "..             ...       ...     ...                 ...    ...  \n",
       "392              0         0       0                   1      0  \n",
       "362              0         0       0                   1      0  \n",
       "16               0         1       0                   0      0  \n",
       "335              0         0       0                   0      0  \n",
       "121              0         0       0                   0      0  \n",
       "\n",
       "[343 rows x 11 columns]"
      ]
     },
     "execution_count": 11,
     "metadata": {},
     "output_type": "execute_result"
    }
   ],
   "source": [
    "train_data"
   ]
  },
  {
   "cell_type": "code",
   "execution_count": 39,
   "id": "level-contractor",
   "metadata": {},
   "outputs": [
    {
     "name": "stdout",
     "output_type": "stream",
     "text": [
      "Model: \"sequential\"\n",
      "_________________________________________________________________\n",
      "Layer (type)                 Output Shape              Param #   \n",
      "=================================================================\n",
      "conv2d (Conv2D)              (None, 248, 248, 16)      448       \n",
      "_________________________________________________________________\n",
      "max_pooling2d (MaxPooling2D) (None, 124, 124, 16)      0         \n",
      "_________________________________________________________________\n",
      "conv2d_1 (Conv2D)            (None, 122, 122, 32)      4640      \n",
      "_________________________________________________________________\n",
      "max_pooling2d_1 (MaxPooling2 (None, 61, 61, 32)        0         \n",
      "_________________________________________________________________\n",
      "conv2d_2 (Conv2D)            (None, 59, 59, 64)        18496     \n",
      "_________________________________________________________________\n",
      "max_pooling2d_2 (MaxPooling2 (None, 29, 29, 64)        0         \n",
      "_________________________________________________________________\n",
      "flatten (Flatten)            (None, 53824)             0         \n",
      "_________________________________________________________________\n",
      "dense (Dense)                (None, 1024)              55116800  \n",
      "_________________________________________________________________\n",
      "dense_1 (Dense)              (None, 9)                 9225      \n",
      "=================================================================\n",
      "Total params: 55,149,609\n",
      "Trainable params: 55,149,609\n",
      "Non-trainable params: 0\n",
      "_________________________________________________________________\n"
     ]
    }
   ],
   "source": [
    "model = tf.keras.models.Sequential([\n",
    "    tf.keras.layers.Conv2D(16, (3,3), activation='relu', input_shape=(250, 250, 3)),\n",
    "    tf.keras.layers.MaxPooling2D(2,2),\n",
    "    tf.keras.layers.Conv2D(32, (3,3), activation='relu'),\n",
    "    tf.keras.layers.MaxPooling2D(2,2), \n",
    "    tf.keras.layers.Conv2D(64, (3,3), activation='relu'), \n",
    "    tf.keras.layers.MaxPooling2D(2,2),\n",
    "    tf.keras.layers.Flatten(), \n",
    "    tf.keras.layers.Dense(1024, activation='relu'),\n",
    "    tf.keras.layers.Dense(9, activation='softmax')\n",
    "])\n",
    "\n",
    "#model.compile(optimizer=tf.keras.optimizers.Adam(learning_rate=0.001),loss='categorical_crossentropy',metrics=['acc'])\n",
    "\n",
    "model.summary()"
   ]
  },
  {
   "cell_type": "code",
   "execution_count": 12,
   "id": "referenced-anthony",
   "metadata": {},
   "outputs": [],
   "source": [
    "#train_datagen = ImageDataGenerator(\n",
    "#        rescale=1./255,\n",
    "#        validation_split= 0.2)\n",
    "train_datagen = ImageDataGenerator(\n",
    "      rescale = 1./255,\n",
    "      horizontal_flip=True,\n",
    "      vertical_flip=True,\n",
    "      rotation_range=30,\n",
    "      width_shift_range=0.2,\n",
    "      height_shift_range=0.2,\n",
    "      shear_range=0.2,\n",
    "      zoom_range=0.2,\n",
    "      validation_split= 0.2)\n",
    "test_datagen = ImageDataGenerator(rescale=1./255)"
   ]
  },
  {
   "cell_type": "code",
   "execution_count": 13,
   "id": "extensive-wrestling",
   "metadata": {},
   "outputs": [
    {
     "name": "stdout",
     "output_type": "stream",
     "text": [
      "Found 275 validated image filenames.\n",
      "Found 68 validated image filenames.\n",
      "Found 86 validated image filenames.\n"
     ]
    }
   ],
   "source": [
    "train_generator = train_datagen.flow_from_dataframe(\n",
    "    train_data,  x_col='path', y_col=label_columns,\n",
    "    target_size=(250, 250), color_mode='rgb',\n",
    "    class_mode='raw', batch_size=64, subset='training',seed = 1\n",
    "    \n",
    "    )\n",
    "val_generator = train_datagen.flow_from_dataframe(\n",
    "    train_data,  x_col='path', y_col=label_columns,\n",
    "    target_size=(250, 250), color_mode='rgb',\n",
    "    class_mode='raw', batch_size=64,subset='validation',seed = 1\n",
    "        )\n",
    "\n",
    "test_generator = test_datagen.flow_from_dataframe(\n",
    "    test_data, x_col='path', y_col=label_columns,\n",
    "    target_size=(250, 250), color_mode='rgb',seed = 1,\n",
    "    class_mode=\"raw\", batch_size=64,shuffle=False\n",
    "    )"
   ]
  },
  {
   "cell_type": "code",
   "execution_count": 45,
   "id": "related-found",
   "metadata": {},
   "outputs": [
    {
     "name": "stdout",
     "output_type": "stream",
     "text": [
      "Epoch 1/25\n",
      "5/5 [==============================] - 32s 6s/step - loss: 3.7924 - accuracy: 0.1455 - val_loss: 2.5471 - val_accuracy: 0.0588 - lr: 5.0000e-04\n",
      "Epoch 2/25\n",
      "5/5 [==============================] - 32s 6s/step - loss: 2.2783 - accuracy: 0.1236 - val_loss: 2.2110 - val_accuracy: 0.0441 - lr: 5.0000e-04\n",
      "Epoch 3/25\n",
      "5/5 [==============================] - 32s 6s/step - loss: 2.1949 - accuracy: 0.1309 - val_loss: 2.1979 - val_accuracy: 0.0588 - lr: 5.0000e-04\n",
      "Epoch 4/25\n",
      "5/5 [==============================] - 31s 6s/step - loss: 2.1663 - accuracy: 0.1818 - val_loss: 2.1519 - val_accuracy: 0.2500 - lr: 5.0000e-04\n",
      "Epoch 5/25\n",
      "5/5 [==============================] - 37s 7s/step - loss: 2.1223 - accuracy: 0.1709 - val_loss: 2.1340 - val_accuracy: 0.2059 - lr: 5.0000e-04\n",
      "Epoch 6/25\n",
      "5/5 [==============================] - 31s 6s/step - loss: 2.0574 - accuracy: 0.2873 - val_loss: 2.0592 - val_accuracy: 0.1765 - lr: 5.0000e-04\n",
      "Epoch 7/25\n",
      "5/5 [==============================] - 32s 6s/step - loss: 1.9910 - accuracy: 0.2291 - val_loss: 1.9370 - val_accuracy: 0.2353 - lr: 5.0000e-04\n",
      "Epoch 8/25\n",
      "5/5 [==============================] - 32s 6s/step - loss: 1.8717 - accuracy: 0.2836 - val_loss: 1.7874 - val_accuracy: 0.2794 - lr: 5.0000e-04\n",
      "Epoch 9/25\n",
      "5/5 [==============================] - 31s 6s/step - loss: 1.8256 - accuracy: 0.3600 - val_loss: 1.6779 - val_accuracy: 0.3676 - lr: 5.0000e-04\n",
      "Epoch 10/25\n",
      "5/5 [==============================] - 37s 7s/step - loss: 1.7344 - accuracy: 0.4000 - val_loss: 1.7665 - val_accuracy: 0.2941 - lr: 5.0000e-04\n",
      "Epoch 11/25\n",
      "5/5 [==============================] - 31s 6s/step - loss: 1.7462 - accuracy: 0.3273 - val_loss: 1.7361 - val_accuracy: 0.3088 - lr: 5.0000e-04\n",
      "Epoch 12/25\n",
      "5/5 [==============================] - 32s 6s/step - loss: 1.6540 - accuracy: 0.3782 - val_loss: 1.6127 - val_accuracy: 0.3971 - lr: 5.0000e-04\n",
      "Epoch 13/25\n",
      "5/5 [==============================] - 32s 6s/step - loss: 1.6227 - accuracy: 0.3855 - val_loss: 1.6670 - val_accuracy: 0.3676 - lr: 5.0000e-04\n",
      "Epoch 14/25\n",
      "5/5 [==============================] - 32s 6s/step - loss: 1.5263 - accuracy: 0.4400 - val_loss: 1.6323 - val_accuracy: 0.3824 - lr: 5.0000e-04\n",
      "Epoch 15/25\n",
      "5/5 [==============================] - 32s 6s/step - loss: 1.6072 - accuracy: 0.4145 - val_loss: 1.5697 - val_accuracy: 0.3088 - lr: 5.0000e-04\n",
      "Epoch 16/25\n",
      "5/5 [==============================] - 33s 7s/step - loss: 1.6068 - accuracy: 0.3927 - val_loss: 1.4975 - val_accuracy: 0.3676 - lr: 5.0000e-04\n",
      "Epoch 17/25\n",
      "5/5 [==============================] - 32s 6s/step - loss: 1.5052 - accuracy: 0.4364 - val_loss: 1.6267 - val_accuracy: 0.3529 - lr: 5.0000e-04\n",
      "Epoch 18/25\n",
      "5/5 [==============================] - 32s 6s/step - loss: 1.6139 - accuracy: 0.3964 - val_loss: 1.6456 - val_accuracy: 0.3824 - lr: 5.0000e-04\n",
      "Epoch 19/25\n",
      "5/5 [==============================] - 32s 6s/step - loss: 1.5048 - accuracy: 0.4400 - val_loss: 1.5493 - val_accuracy: 0.3971 - lr: 5.0000e-04\n",
      "Epoch 20/25\n",
      "5/5 [==============================] - 32s 6s/step - loss: 1.4987 - accuracy: 0.4545 - val_loss: 1.8023 - val_accuracy: 0.3382 - lr: 5.0000e-04\n",
      "Epoch 21/25\n",
      "5/5 [==============================] - 32s 6s/step - loss: 1.5442 - accuracy: 0.4582 - val_loss: 1.3691 - val_accuracy: 0.4265 - lr: 5.0000e-04\n",
      "Epoch 22/25\n",
      "5/5 [==============================] - 37s 7s/step - loss: 1.4272 - accuracy: 0.4800 - val_loss: 1.4728 - val_accuracy: 0.4412 - lr: 5.0000e-04\n",
      "Epoch 23/25\n",
      "5/5 [==============================] - 32s 6s/step - loss: 1.3282 - accuracy: 0.5418 - val_loss: 1.4924 - val_accuracy: 0.3971 - lr: 5.0000e-04\n",
      "Epoch 24/25\n",
      "5/5 [==============================] - 36s 7s/step - loss: 1.3859 - accuracy: 0.4618 - val_loss: 1.4043 - val_accuracy: 0.5000 - lr: 5.0000e-04\n",
      "Epoch 25/25\n",
      "5/5 [==============================] - 32s 6s/step - loss: 1.3134 - accuracy: 0.5564 - val_loss: 1.4217 - val_accuracy: 0.4412 - lr: 5.0000e-04\n"
     ]
    }
   ],
   "source": [
    "tf.keras.backend.clear_session()\n",
    "reduce_lr = ReduceLROnPlateau(monitor='val_loss', factor=0.2,\n",
    "                              patience=5, min_lr=0.00001)\n",
    "#model.compile(loss = 'categorical_crossentropy', optimizer = Adam(learning_rate=0.0005), metrics = [\"accuracy\"])\n",
    "model.compile(optimizer=tf.keras.optimizers.Adam(learning_rate=0.0005),loss='categorical_crossentropy',metrics=[\"accuracy\"])\n",
    "model_history = model.fit(train_generator,epochs=25,callbacks = [reduce_lr],validation_data = val_generator)"
   ]
  },
  {
   "cell_type": "code",
   "execution_count": 14,
   "id": "marine-boston",
   "metadata": {},
   "outputs": [
    {
     "ename": "NameError",
     "evalue": "name 'model' is not defined",
     "output_type": "error",
     "traceback": [
      "\u001b[0;31m---------------------------------------------------------------------------\u001b[0m",
      "\u001b[0;31mNameError\u001b[0m                                 Traceback (most recent call last)",
      "\u001b[0;32m<ipython-input-14-1d9a9fb34eb3>\u001b[0m in \u001b[0;36m<module>\u001b[0;34m\u001b[0m\n\u001b[0;32m----> 1\u001b[0;31m \u001b[0mmodel\u001b[0m\u001b[0;34m.\u001b[0m\u001b[0msave\u001b[0m\u001b[0;34m(\u001b[0m\u001b[0;34m'model_new.h5'\u001b[0m\u001b[0;34m)\u001b[0m\u001b[0;34m\u001b[0m\u001b[0;34m\u001b[0m\u001b[0m\n\u001b[0m",
      "\u001b[0;31mNameError\u001b[0m: name 'model' is not defined"
     ]
    }
   ],
   "source": [
    "model.save('model_new.h5')"
   ]
  },
  {
   "cell_type": "code",
   "execution_count": 15,
   "id": "intermediate-massage",
   "metadata": {},
   "outputs": [
    {
     "name": "stdout",
     "output_type": "stream",
     "text": [
      "2/2 [==============================] - 0s 20ms/step - loss: 1.0298 - acc: 0.6618\n"
     ]
    }
   ],
   "source": [
    "model = tf.keras.models.load_model('model1_aug.h5')\n",
    "scoreSeg = model.evaluate(x=val_generator,verbose =1)"
   ]
  },
  {
   "cell_type": "code",
   "execution_count": 16,
   "id": "polyphonic-retrieval",
   "metadata": {},
   "outputs": [
    {
     "data": {
      "text/plain": [
       "[1.0298269987106323, 0.6617646813392639]"
      ]
     },
     "execution_count": 16,
     "metadata": {},
     "output_type": "execute_result"
    }
   ],
   "source": [
    "scoreSeg"
   ]
  },
  {
   "cell_type": "code",
   "execution_count": 54,
   "id": "defensive-vulnerability",
   "metadata": {},
   "outputs": [
    {
     "data": {
      "image/png": "[encoded data removed]",
      "text/plain": [
       "<Figure size 432x288 with 1 Axes>"
      ]
     },
     "metadata": {},
     "output_type": "display_data"
    }
   ],
   "source": [
    "loss = model_history.history['loss']\n",
    "val_loss = model_history.history['val_loss']\n",
    "EPOCHS =25\n",
    "epochs = range(EPOCHS)\n",
    "\n",
    "plt.figure()\n",
    "plt.plot(epochs, loss, 'r', label='Training loss')\n",
    "plt.plot(epochs, val_loss, 'g', label='Validation loss')\n",
    "plt.title('Training and Validation Loss')\n",
    "plt.xlabel('Epoch')\n",
    "plt.ylabel('Loss Value')\n",
    "plt.legend()\n",
    "plt.show()"
   ]
  },
  {
   "cell_type": "code",
   "execution_count": 72,
   "id": "social-lounge",
   "metadata": {},
   "outputs": [
    {
     "data": {
      "image/png": "[encoded data removed]",
      "text/plain": [
       "<Figure size 432x288 with 1 Axes>"
      ]
     },
     "metadata": {},
     "output_type": "display_data"
    }
   ],
   "source": [
    "acc = model_history.history['accuracy']\n",
    "val_acc = model_history.history['val_accuracy']\n",
    "         \n",
    "plt.figure()\n",
    "plt.plot(epochs, acc, 'r', label='Training Accuracy')\n",
    "plt.plot(epochs, val_acc, 'g', label='Validation Accuracy')\n",
    "plt.title('Training and Validation Accuracy')\n",
    "plt.xlabel('Epoch')\n",
    "plt.ylabel('Accuracy Value')\n",
    "plt.legend()\n",
    "plt.show()"
   ]
  },
  {
   "cell_type": "code",
   "execution_count": 56,
   "id": "recovered-brook",
   "metadata": {},
   "outputs": [],
   "source": [
    "test_predictions = model.predict(test_generator)\n",
    "test_predictions = np.argmax(test_predictions, axis=1)"
   ]
  },
  {
   "cell_type": "code",
   "execution_count": 57,
   "id": "comfortable-columbia",
   "metadata": {},
   "outputs": [
    {
     "data": {
      "text/plain": [
       "array([8, 7, 7, 4, 4, 7, 7, 3, 3, 4, 5, 3, 0, 0, 2, 1, 6, 1, 4, 5, 7, 7,\n",
       "       1, 6, 4, 4, 3, 6, 3, 0, 6, 1, 5, 2, 6, 2, 2, 2, 2, 6, 5, 0, 8, 8,\n",
       "       1, 5, 2, 5, 4, 0, 1, 8, 7, 2, 6, 4, 0, 4, 6, 0, 3, 0, 7, 1, 7, 5,\n",
       "       0, 2, 6, 1, 5, 5, 3, 2, 1, 0, 5, 8, 3, 8, 7, 3, 6, 1, 3, 4])"
      ]
     },
     "execution_count": 57,
     "metadata": {},
     "output_type": "execute_result"
    }
   ],
   "source": [
    "test_gt = np.argmax(test_generator.labels, axis=1)\n",
    "test_gt"
   ]
  },
  {
   "cell_type": "code",
   "execution_count": 58,
   "id": "right-christopher",
   "metadata": {},
   "outputs": [
    {
     "name": "stdout",
     "output_type": "stream",
     "text": [
      "0.872093023255814\n"
     ]
    }
   ],
   "source": [
    "from sklearn.metrics import accuracy_score\n",
    "print(accuracy_score(test_gt, test_predictions))"
   ]
  },
  {
   "cell_type": "code",
   "execution_count": 64,
   "id": "rural-anniversary",
   "metadata": {},
   "outputs": [
    {
     "data": {
      "text/plain": [
       "'\\nfrom sklearn.metrics import plot_confusion_matrix\\ntitle = \"Confusion Matrix\"\\nfig, ax2 = plt.subplots(figsize=(9, 9))\\nplot_confusion_matrix(model, test_gt, test_predictions,\\n                                 cmap=plt.cm.Blues, \\n                                 ax=ax2,\\n                                 normalize=\\'False\\'\\n                                )\\nax2.set_title(title)\\nplt.xticks(rotation = 45)\\nplt.yticks(rotation = 45)\\nplt.savefig(\\'normalized_conf_matrix.png\\')\\nplt.show()\\n'"
      ]
     },
     "execution_count": 64,
     "metadata": {},
     "output_type": "execute_result"
    }
   ],
   "source": [
    "#Plots a confusion matrix of our best model \n",
    "\"\"\"\n",
    "from sklearn.metrics import plot_confusion_matrix\n",
    "title = \"Confusion Matrix\"\n",
    "fig, ax2 = plt.subplots(figsize=(9, 9))\n",
    "plot_confusion_matrix(model, test_gt, test_predictions,\n",
    "                                 cmap=plt.cm.Blues, \n",
    "                                 ax=ax2,\n",
    "                                 normalize='False'\n",
    "                                )\n",
    "ax2.set_title(title)\n",
    "plt.xticks(rotation = 45)\n",
    "plt.yticks(rotation = 45)\n",
    "plt.savefig('normalized_conf_matrix.png')\n",
    "plt.show()\n",
    "\"\"\""
   ]
  },
  {
   "cell_type": "code",
   "execution_count": 73,
   "id": "ranking-south",
   "metadata": {},
   "outputs": [
    {
     "data": {
      "text/plain": [
       "'\\ndef plot_confusion_matrix(cm, classes,\\n                          normalize=False,\\n                          title=\\'Confusion matrix\\',\\n                          cmap=plt.cm.Blues):\\n    \\n    This function prints and plots the confusion matrix.\\n    Normalization can be applied by setting `normalize=True`.\\n    \\n    plt.imshow(cm, interpolation=\\'nearest\\', cmap=cmap)\\n    plt.title(title)\\n    plt.colorbar()\\n    tick_marks = np.arange(len(classes))\\n    plt.xticks(tick_marks, classes, rotation=45)\\n    plt.yticks(tick_marks, classes)\\n\\n    if normalize:\\n        cm = cm.astype(\\'float\\') / cm.sum(axis=1)[:, np.newaxis]\\n        print(\"Normalized confusion matrix\")\\n    else:\\n        print(\\'Confusion matrix, without normalization\\')\\n\\n    print(cm)\\n\\n    thresh = cm.max() / 2.\\n    for i, j in itertools.product(range(cm.shape[0]), range(cm.shape[1])):\\n        plt.text(j, i, cm[i, j],\\n                 horizontalalignment=\"center\",\\n                 color=\"white\" if cm[i, j] > thresh else \"black\")\\n\\n    plt.tight_layout()\\n    plt.ylabel(\\'True label\\')\\n    plt.xlabel(\\'Predicted label\\')\\n'"
      ]
     },
     "execution_count": 73,
     "metadata": {},
     "output_type": "execute_result"
    }
   ],
   "source": [
    "\"\"\"\n",
    "def plot_confusion_matrix(cm, classes,\n",
    "                          normalize=False,\n",
    "                          title='Confusion matrix',\n",
    "                          cmap=plt.cm.Blues):\n",
    "    \n",
    "    This function prints and plots the confusion matrix.\n",
    "    Normalization can be applied by setting `normalize=True`.\n",
    "    \n",
    "    plt.imshow(cm, interpolation='nearest', cmap=cmap)\n",
    "    plt.title(title)\n",
    "    plt.colorbar()\n",
    "    tick_marks = np.arange(len(classes))\n",
    "    plt.xticks(tick_marks, classes, rotation=45)\n",
    "    plt.yticks(tick_marks, classes)\n",
    "\n",
    "    if normalize:\n",
    "        cm = cm.astype('float') / cm.sum(axis=1)[:, np.newaxis]\n",
    "        print(\"Normalized confusion matrix\")\n",
    "    else:\n",
    "        print('Confusion matrix, without normalization')\n",
    "\n",
    "    print(cm)\n",
    "\n",
    "    thresh = cm.max() / 2.\n",
    "    for i, j in itertools.product(range(cm.shape[0]), range(cm.shape[1])):\n",
    "        plt.text(j, i, cm[i, j],\n",
    "                 horizontalalignment=\"center\",\n",
    "                 color=\"white\" if cm[i, j] > thresh else \"black\")\n",
    "\n",
    "    plt.tight_layout()\n",
    "    plt.ylabel('True label')\n",
    "    plt.xlabel('Predicted label')\n",
    "\"\"\""
   ]
  },
  {
   "cell_type": "code",
   "execution_count": 71,
   "id": "voluntary-tampa",
   "metadata": {},
   "outputs": [
    {
     "data": {
      "image/png": "[encoded data removed]",
      "text/plain": [
       "<Figure size 720x576 with 2 Axes>"
      ]
     },
     "metadata": {},
     "output_type": "display_data"
    }
   ],
   "source": [
    "# Compute confusion matrix\n",
    "from sklearn.metrics import confusion_matrix\n",
    "import itertools\n",
    "import seaborn as sn\n",
    "\n",
    "cnf_matrix = confusion_matrix(test_gt, test_predictions)\n",
    "df_cm = pd.DataFrame(cnf_matrix,label_columns,label_columns)\n",
    "plt.figure(figsize=(10,8))\n",
    "sn.set(font_scale=1.0) # for label size\n",
    "sn.heatmap(df_cm, annot=True, annot_kws={\"size\": 10},fmt='d',cmap=plt.cm.Blues) # font size\n",
    "\n",
    "#plt.xticks(rotation = 45)\n",
    "#plt.yticks(rotation = 45)\n",
    "#plt.savefig('normalized_conf_matrix.png')\n",
    "plt.show()"
   ]
  },
  {
   "cell_type": "code",
   "execution_count": 80,
   "id": "designed-position",
   "metadata": {},
   "outputs": [
    {
     "name": "stdout",
     "output_type": "stream",
     "text": [
      "Index(['Black Sea Sprat', 'Gilt Head Bream', 'Horse Mackerel', 'Red Mullet',\n",
      "       'Red Sea Bream', 'Sea Bass', 'Shrimp', 'Striped Red Mullet', 'Trout'],\n",
      "      dtype='object')\n",
      "              precision    recall  f1-score   support\n",
      "\n",
      "           0       1.00      0.90      0.95        10\n",
      "           1       0.82      0.90      0.86        10\n",
      "           2       0.88      0.70      0.78        10\n",
      "           3       0.90      0.90      0.90        10\n",
      "           4       1.00      1.00      1.00        10\n",
      "           5       0.71      1.00      0.83        10\n",
      "           6       0.91      1.00      0.95        10\n",
      "           7       0.86      0.60      0.71        10\n",
      "           8       0.83      0.83      0.83         6\n",
      "\n",
      "    accuracy                           0.87        86\n",
      "   macro avg       0.88      0.87      0.87        86\n",
      "weighted avg       0.88      0.87      0.87        86\n",
      "\n"
     ]
    }
   ],
   "source": [
    "print(label_columns)\n",
    "from sklearn import metrics\n",
    "print(metrics.classification_report(test_gt, test_predictions))"
   ]
  },
  {
   "cell_type": "code",
   "execution_count": null,
   "id": "northern-beauty",
   "metadata": {},
   "outputs": [],
   "source": []
  }
 ],
 "metadata": {
  "kernelspec": {
   "display_name": "Python 3",
   "language": "python",
   "name": "python3"
  },
  "language_info": {
   "codemirror_mode": {
    "name": "ipython",
    "version": 3
   },
   "file_extension": ".py",
   "mimetype": "text/x-python",
   "name": "python",
   "nbconvert_exporter": "python",
   "pygments_lexer": "ipython3",
   "version": "3.7.9"
  }
 },
 "nbformat": 4,
 "nbformat_minor": 5
}
